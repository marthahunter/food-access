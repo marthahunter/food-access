{
 "cells": [
  {
   "cell_type": "markdown",
   "metadata": {},
   "source": [
    "### Questions to Answer\n",
    "(Respective datasets in parentheses) \n",
    "\n",
    "1. Which counties have the highest percentage of occupied housing tracts enrolled in SNAP? (Food Access Research Atlas)\n",
    "\n",
    "2. What are the demographics of those counties? (Food Access Research Atlas) What about regions? (Food Access Research Atlas)\n",
    "\n",
    "3. Are senior or children more likely to be food insecure? (Food Access Research Atlas)\n",
    "\n",
    "4. Are the counties with highest percentages of SNAP enrollments also the counties with the highest percentages of food insecurity? (Food Access Research Atlas)\n",
    "\n",
    "5. Which counties have the highest/lowest disparities in food access among census tracts? Of those counties, how do the min/max food insecure tract demographics compare? (Food Access Research Atlas)\n",
    "\n",
    "6. Of the counties with the highest levels of food insecurity, what percentage of these tracts are in the lowest income brackets? (Food Access Research Atlas and Census Household Income)\n",
    "\n",
    "7. Of the counties with the highest levels of food insecurity, what does spending for children’s programs look like? How has it changed over time? What about counties with the lowest levels of food insecurity? (TN Children Served)\n",
    "\n",
    "8. What are the highest enrollments for children's programs? highest expenditures? and highest expenditures per child?\n",
    "\n",
    "9. Which counties/programs have more reliable data? Look at “actual” vs “estimate”, NaN and outlier values for children served/expenditures.\n",
    "\n",
    "10. How much do counties spend on SNAP and other food programs? How does that correlate with a county’s total SNAP enrollment? (Food Access Research Atlas and TN Children Served)\n",
    "\n",
    "11. Do counties with the highest levels of income disparity tend to have higher percentages of food insecurity? (Food Access Research Atlas and Census Household Income)"
   ]
  },
  {
   "cell_type": "code",
   "execution_count": null,
   "metadata": {},
   "outputs": [],
   "source": [
    "import pandas as pd\n",
    "from matplotlib import pyplot as plt\n",
    "import seaborn as sns\n",
    "import numpy as np"
   ]
  },
  {
   "cell_type": "code",
   "execution_count": null,
   "metadata": {},
   "outputs": [],
   "source": [
    "tn_food_access_df = pd.read_excel('../data/tn_food_access_clean_excel.xlsx')"
   ]
  },
  {
   "cell_type": "code",
   "execution_count": null,
   "metadata": {},
   "outputs": [],
   "source": [
    "tn_food_access_df.head()"
   ]
  },
  {
   "cell_type": "markdown",
   "metadata": {},
   "source": [
    "1. Which counties have the highest percentage of occupied housing units enrolled in SNAP? (Food Access Research Atlas)\n"
   ]
  },
  {
   "cell_type": "markdown",
   "metadata": {},
   "source": [
    "`TractSNAP` - Total count of housing units receiving SNAP benefits in tract \n",
    "\n",
    "`county_and_state` groupby\n",
    "\n",
    "`OHU2010` - Occupied housing unit count from 2010 census\n"
   ]
  },
  {
   "cell_type": "code",
   "execution_count": null,
   "metadata": {},
   "outputs": [],
   "source": [
    "tn_food_access_df['pct_ohu_snap'] = round((tn_food_access_df['TractSNAP']/tn_food_access_df['OHU2010']*100),2)"
   ]
  },
  {
   "cell_type": "code",
   "execution_count": null,
   "metadata": {},
   "outputs": [],
   "source": [
    "tn_food_access_df.head()"
   ]
  },
  {
   "cell_type": "code",
   "execution_count": null,
   "metadata": {},
   "outputs": [],
   "source": [
    "pct_ohu_snap_by_county = round((tn_food_access_df.groupby('county_and_state')['pct_ohu_snap'].mean()),2)"
   ]
  },
  {
   "cell_type": "code",
   "execution_count": null,
   "metadata": {},
   "outputs": [],
   "source": [
    "print(pct_ohu_snap_by_county)"
   ]
  },
  {
   "cell_type": "code",
   "execution_count": null,
   "metadata": {},
   "outputs": [],
   "source": [
    "pct_ohu_snap_by_county_df = pd.DataFrame(pct_ohu_snap_by_county).reset_index()"
   ]
  },
  {
   "cell_type": "code",
   "execution_count": null,
   "metadata": {},
   "outputs": [],
   "source": [
    "# using earlier code for reference:\n",
    "# tn_food_access_df[tn_food_access_df['Pop2010'].iloc[:]==tn_food_access_df['Pop2010'].iloc[:].min()]\n",
    "\n",
    "pct_ohu_snap_by_county_df[pct_ohu_snap_by_county_df['pct_ohu_snap'].iloc[:]==pct_ohu_snap_by_county_df['pct_ohu_snap'].iloc[:].min()]"
   ]
  },
  {
   "cell_type": "code",
   "execution_count": null,
   "metadata": {},
   "outputs": [],
   "source": [
    "pct_ohu_snap_by_county_df[pct_ohu_snap_by_county_df['pct_ohu_snap'].iloc[:]==pct_ohu_snap_by_county_df['pct_ohu_snap'].iloc[:].max()]"
   ]
  },
  {
   "cell_type": "code",
   "execution_count": null,
   "metadata": {},
   "outputs": [],
   "source": [
    "sns.histplot(pct_ohu_snap_by_county_df, bins=50)"
   ]
  },
  {
   "cell_type": "code",
   "execution_count": null,
   "metadata": {},
   "outputs": [],
   "source": [
    "highest_snap_counties = pct_ohu_snap_by_county_df.sort_values(by='pct_ohu_snap', ascending=False)"
   ]
  },
  {
   "cell_type": "code",
   "execution_count": null,
   "metadata": {},
   "outputs": [],
   "source": [
    "# highest_snap_counties.to_csv('highest_snap_counties.csv')"
   ]
  },
  {
   "cell_type": "markdown",
   "metadata": {},
   "source": [
    "Taking a look at percentage of occupied housing units enrolled in SNAP by region now:"
   ]
  },
  {
   "cell_type": "code",
   "execution_count": null,
   "metadata": {},
   "outputs": [],
   "source": [
    "pct_ohu_snap_by_region = round((tn_food_access_df.groupby('region')['pct_ohu_snap'].mean()),2)"
   ]
  },
  {
   "cell_type": "code",
   "execution_count": null,
   "metadata": {},
   "outputs": [],
   "source": [
    "pct_ohu_snap_by_region_df = pd.DataFrame(pct_ohu_snap_by_region).reset_index()"
   ]
  },
  {
   "cell_type": "code",
   "execution_count": null,
   "metadata": {},
   "outputs": [],
   "source": [
    "pct_ohu_snap_by_region_df"
   ]
  },
  {
   "cell_type": "code",
   "execution_count": null,
   "metadata": {},
   "outputs": [],
   "source": [
    "sns.barplot(data=pct_ohu_snap_by_region_df, x='region',y='pct_ohu_snap')"
   ]
  },
  {
   "cell_type": "markdown",
   "metadata": {},
   "source": [
    "Just did a little Excel magic to the previously-downloaded list of SNAP enrollment by county to add region! Reading it back in here:"
   ]
  },
  {
   "cell_type": "code",
   "execution_count": null,
   "metadata": {},
   "outputs": [],
   "source": [
    "counties_and_regions_by_pct_ohu_snap_df = pd.read_csv('../data/highest_snap_counties.csv')"
   ]
  },
  {
   "cell_type": "code",
   "execution_count": null,
   "metadata": {},
   "outputs": [],
   "source": [
    "counties_and_regions_by_pct_ohu_snap_df.head(10)"
   ]
  },
  {
   "cell_type": "code",
   "execution_count": null,
   "metadata": {},
   "outputs": [],
   "source": [
    "counties_and_regions_by_pct_ohu_snap_df.tail(10)"
   ]
  },
  {
   "cell_type": "code",
   "execution_count": null,
   "metadata": {},
   "outputs": [],
   "source": [
    "countries_and_regions_df = counties_and_regions_by_pct_ohu_snap_df"
   ]
  },
  {
   "cell_type": "markdown",
   "metadata": {},
   "source": [
    "2. What are the demographics of those counties? (Food Access Research Atlas) What about regions? (Food Access Research Atlas)\n"
   ]
  },
  {
   "cell_type": "code",
   "execution_count": null,
   "metadata": {},
   "outputs": [],
   "source": [
    "tn_food_access_df.head()"
   ]
  },
  {
   "cell_type": "code",
   "execution_count": null,
   "metadata": {},
   "outputs": [],
   "source": [
    "tn_food_access_df['pct_LOWI'] = round((tn_food_access_df['TractLOWI']/tn_food_access_df['Pop2010']*100),2)\n",
    "tn_food_access_df['pct_kids'] = round((tn_food_access_df['TractKids']/tn_food_access_df['Pop2010']*100),2)\n",
    "tn_food_access_df['pct_seniors'] = round((tn_food_access_df['TractSeniors']/tn_food_access_df['Pop2010']*100),2)\n",
    "tn_food_access_df['pct_white'] = round((tn_food_access_df['TractWhite']/tn_food_access_df['Pop2010']*100),2)\n",
    "tn_food_access_df['pct_black'] = round((tn_food_access_df['TractBlack']/tn_food_access_df['Pop2010']*100),2)\n",
    "tn_food_access_df['pct_asian'] = round((tn_food_access_df['TractAsian']/tn_food_access_df['Pop2010']*100),2)\n",
    "tn_food_access_df['pct_pac_isl'] = round((tn_food_access_df['TractNHOPI']/tn_food_access_df['Pop2010']*100),2)\n",
    "tn_food_access_df['pct_aian'] = round((tn_food_access_df['TractAIAN']/tn_food_access_df['Pop2010']*100),2)\n",
    "tn_food_access_df['pct_o_multir'] = round((tn_food_access_df['TractOMultir']/tn_food_access_df['Pop2010']*100),2)\n",
    "tn_food_access_df['pct_hispanic'] = round((tn_food_access_df['TractHispanic']/tn_food_access_df['Pop2010']*100),2)\n",
    "tn_food_access_df['pct_no_vehicle'] = round((tn_food_access_df['TractHUNV']/tn_food_access_df['OHU2010']*100),2)\n",
    "\n"
   ]
  },
  {
   "cell_type": "code",
   "execution_count": null,
   "metadata": {},
   "outputs": [],
   "source": [
    "# pct_ohu_snap_by_region = round((tn_food_access_df.groupby('region')['pct_ohu_snap'].mean()),2)"
   ]
  },
  {
   "cell_type": "code",
   "execution_count": null,
   "metadata": {},
   "outputs": [],
   "source": [
    "countries_and_regions_lowi = round((tn_food_access_df.groupby('county')['pct_LOWI'].mean()),2)\n",
    "countries_and_regions_lowi.head()"
   ]
  },
  {
   "cell_type": "code",
   "execution_count": null,
   "metadata": {},
   "outputs": [],
   "source": [
    "countries_and_regions_df['pct_LOWI'] = round((tn_food_access_df.groupby('county')['pct_LOWI'].mean()),2)\n",
    "countries_and_regions_df.head()\n"
   ]
  }
 ],
 "metadata": {
  "kernelspec": {
   "display_name": "base",
   "language": "python",
   "name": "python3"
  },
  "language_info": {
   "codemirror_mode": {
    "name": "ipython",
    "version": 3
   },
   "file_extension": ".py",
   "mimetype": "text/x-python",
   "name": "python",
   "nbconvert_exporter": "python",
   "pygments_lexer": "ipython3",
   "version": "3.11.5"
  }
 },
 "nbformat": 4,
 "nbformat_minor": 2
}
