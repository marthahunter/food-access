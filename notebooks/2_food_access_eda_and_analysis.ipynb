{
 "cells": [
  {
   "cell_type": "markdown",
   "metadata": {},
   "source": [
    "### Exploratory Data Analysis - USDA Food Access Research Atlas (Tennessee data only)"
   ]
  },
  {
   "cell_type": "code",
   "execution_count": 1,
   "metadata": {},
   "outputs": [],
   "source": [
    "import pandas as pd\n",
    "from matplotlib import pyplot as plt\n",
    "import seaborn as sns\n",
    "import numpy as np\n"
   ]
  },
  {
   "cell_type": "code",
   "execution_count": 2,
   "metadata": {},
   "outputs": [],
   "source": [
    "tn_food_access_df = pd.read_csv('../data/tn_food_access.csv')"
   ]
  },
  {
   "cell_type": "code",
   "execution_count": 3,
   "metadata": {},
   "outputs": [],
   "source": [
    "tn_food_access_df = tn_food_access_df.drop('CT_Old', axis=1)\n",
    "tn_food_access_df = tn_food_access_df.drop('State', axis=1)"
   ]
  },
  {
   "cell_type": "code",
   "execution_count": 4,
   "metadata": {},
   "outputs": [],
   "source": [
    "tn_food_access_df = tn_food_access_df.replace(r'^\\s*$', np.nan, regex=True)"
   ]
  },
  {
   "cell_type": "code",
   "execution_count": 5,
   "metadata": {},
   "outputs": [],
   "source": [
    "# tn_food_access_df_fillna.to_csv('tn_food_access_nan.csv')"
   ]
  },
  {
   "cell_type": "markdown",
   "metadata": {},
   "source": [
    "Getting a general sense of the data ..."
   ]
  },
  {
   "cell_type": "code",
   "execution_count": 6,
   "metadata": {},
   "outputs": [
    {
     "data": {
      "text/html": [
       "<div>\n",
       "<style scoped>\n",
       "    .dataframe tbody tr th:only-of-type {\n",
       "        vertical-align: middle;\n",
       "    }\n",
       "\n",
       "    .dataframe tbody tr th {\n",
       "        vertical-align: top;\n",
       "    }\n",
       "\n",
       "    .dataframe thead th {\n",
       "        text-align: right;\n",
       "    }\n",
       "</style>\n",
       "<table border=\"1\" class=\"dataframe\">\n",
       "  <thead>\n",
       "    <tr style=\"text-align: right;\">\n",
       "      <th></th>\n",
       "      <th>CT_Clean</th>\n",
       "      <th>County</th>\n",
       "      <th>Urban</th>\n",
       "      <th>Pop2010</th>\n",
       "      <th>OHU2010</th>\n",
       "      <th>GroupQuartersFlag</th>\n",
       "      <th>NUMGQTRS</th>\n",
       "      <th>PCTGQTRS</th>\n",
       "      <th>LILATracts_1And10</th>\n",
       "      <th>LILATracts_halfAnd10</th>\n",
       "      <th>...</th>\n",
       "      <th>TractSeniors</th>\n",
       "      <th>TractWhite</th>\n",
       "      <th>TractBlack</th>\n",
       "      <th>TractAsian</th>\n",
       "      <th>TractNHOPI</th>\n",
       "      <th>TractAIAN</th>\n",
       "      <th>TractOMultir</th>\n",
       "      <th>TractHispanic</th>\n",
       "      <th>TractHUNV</th>\n",
       "      <th>TractSNAP</th>\n",
       "    </tr>\n",
       "  </thead>\n",
       "  <tbody>\n",
       "    <tr>\n",
       "      <th>0</th>\n",
       "      <td>201.00</td>\n",
       "      <td>Anderson County</td>\n",
       "      <td>1</td>\n",
       "      <td>3111</td>\n",
       "      <td>1546</td>\n",
       "      <td>0</td>\n",
       "      <td>6</td>\n",
       "      <td>0.19</td>\n",
       "      <td>0</td>\n",
       "      <td>1</td>\n",
       "      <td>...</td>\n",
       "      <td>384</td>\n",
       "      <td>1969</td>\n",
       "      <td>853</td>\n",
       "      <td>130</td>\n",
       "      <td>2</td>\n",
       "      <td>9</td>\n",
       "      <td>148</td>\n",
       "      <td>145</td>\n",
       "      <td>206</td>\n",
       "      <td>438</td>\n",
       "    </tr>\n",
       "    <tr>\n",
       "      <th>1</th>\n",
       "      <td>202.01</td>\n",
       "      <td>Anderson County</td>\n",
       "      <td>1</td>\n",
       "      <td>3670</td>\n",
       "      <td>1535</td>\n",
       "      <td>0</td>\n",
       "      <td>103</td>\n",
       "      <td>2.81</td>\n",
       "      <td>0</td>\n",
       "      <td>0</td>\n",
       "      <td>...</td>\n",
       "      <td>658</td>\n",
       "      <td>3158</td>\n",
       "      <td>144</td>\n",
       "      <td>256</td>\n",
       "      <td>0</td>\n",
       "      <td>6</td>\n",
       "      <td>106</td>\n",
       "      <td>84</td>\n",
       "      <td>49</td>\n",
       "      <td>31</td>\n",
       "    </tr>\n",
       "    <tr>\n",
       "      <th>2</th>\n",
       "      <td>202.02</td>\n",
       "      <td>Anderson County</td>\n",
       "      <td>1</td>\n",
       "      <td>4507</td>\n",
       "      <td>2025</td>\n",
       "      <td>0</td>\n",
       "      <td>230</td>\n",
       "      <td>5.10</td>\n",
       "      <td>0</td>\n",
       "      <td>0</td>\n",
       "      <td>...</td>\n",
       "      <td>1364</td>\n",
       "      <td>3988</td>\n",
       "      <td>194</td>\n",
       "      <td>128</td>\n",
       "      <td>0</td>\n",
       "      <td>18</td>\n",
       "      <td>179</td>\n",
       "      <td>214</td>\n",
       "      <td>174</td>\n",
       "      <td>208</td>\n",
       "    </tr>\n",
       "    <tr>\n",
       "      <th>3</th>\n",
       "      <td>203.00</td>\n",
       "      <td>Anderson County</td>\n",
       "      <td>1</td>\n",
       "      <td>3822</td>\n",
       "      <td>1656</td>\n",
       "      <td>0</td>\n",
       "      <td>0</td>\n",
       "      <td>0.00</td>\n",
       "      <td>0</td>\n",
       "      <td>0</td>\n",
       "      <td>...</td>\n",
       "      <td>640</td>\n",
       "      <td>3290</td>\n",
       "      <td>278</td>\n",
       "      <td>20</td>\n",
       "      <td>3</td>\n",
       "      <td>18</td>\n",
       "      <td>213</td>\n",
       "      <td>179</td>\n",
       "      <td>53</td>\n",
       "      <td>109</td>\n",
       "    </tr>\n",
       "    <tr>\n",
       "      <th>4</th>\n",
       "      <td>204.00</td>\n",
       "      <td>Anderson County</td>\n",
       "      <td>1</td>\n",
       "      <td>4508</td>\n",
       "      <td>2013</td>\n",
       "      <td>0</td>\n",
       "      <td>106</td>\n",
       "      <td>2.35</td>\n",
       "      <td>1</td>\n",
       "      <td>1</td>\n",
       "      <td>...</td>\n",
       "      <td>761</td>\n",
       "      <td>3855</td>\n",
       "      <td>264</td>\n",
       "      <td>34</td>\n",
       "      <td>3</td>\n",
       "      <td>20</td>\n",
       "      <td>332</td>\n",
       "      <td>277</td>\n",
       "      <td>86</td>\n",
       "      <td>406</td>\n",
       "    </tr>\n",
       "  </tbody>\n",
       "</table>\n",
       "<p>5 rows × 146 columns</p>\n",
       "</div>"
      ],
      "text/plain": [
       "   CT_Clean           County  Urban  Pop2010  OHU2010  GroupQuartersFlag  \\\n",
       "0    201.00  Anderson County      1     3111     1546                  0   \n",
       "1    202.01  Anderson County      1     3670     1535                  0   \n",
       "2    202.02  Anderson County      1     4507     2025                  0   \n",
       "3    203.00  Anderson County      1     3822     1656                  0   \n",
       "4    204.00  Anderson County      1     4508     2013                  0   \n",
       "\n",
       "   NUMGQTRS  PCTGQTRS  LILATracts_1And10  LILATracts_halfAnd10  ...  \\\n",
       "0         6      0.19                  0                     1  ...   \n",
       "1       103      2.81                  0                     0  ...   \n",
       "2       230      5.10                  0                     0  ...   \n",
       "3         0      0.00                  0                     0  ...   \n",
       "4       106      2.35                  1                     1  ...   \n",
       "\n",
       "   TractSeniors  TractWhite  TractBlack  TractAsian  TractNHOPI  TractAIAN  \\\n",
       "0           384        1969         853         130           2          9   \n",
       "1           658        3158         144         256           0          6   \n",
       "2          1364        3988         194         128           0         18   \n",
       "3           640        3290         278          20           3         18   \n",
       "4           761        3855         264          34           3         20   \n",
       "\n",
       "   TractOMultir  TractHispanic  TractHUNV  TractSNAP  \n",
       "0           148            145        206        438  \n",
       "1           106             84         49         31  \n",
       "2           179            214        174        208  \n",
       "3           213            179         53        109  \n",
       "4           332            277         86        406  \n",
       "\n",
       "[5 rows x 146 columns]"
      ]
     },
     "execution_count": 6,
     "metadata": {},
     "output_type": "execute_result"
    }
   ],
   "source": [
    "tn_food_access_df.head()"
   ]
  },
  {
   "cell_type": "code",
   "execution_count": 20,
   "metadata": {},
   "outputs": [
    {
     "name": "stdout",
     "output_type": "stream",
     "text": [
      "<class 'pandas.core.series.Series'>\n",
      "RangeIndex: 1489 entries, 0 to 1488\n",
      "Series name: CT_Clean\n",
      "Non-Null Count  Dtype  \n",
      "--------------  -----  \n",
      "1489 non-null   float64\n",
      "dtypes: float64(1)\n",
      "memory usage: 11.8 KB\n"
     ]
    }
   ],
   "source": [
    "tn_food_access_df['CT_Clean'].info()"
   ]
  },
  {
   "cell_type": "markdown",
   "metadata": {},
   "source": [
    "993 unique entries for census tract, yet 1,489 total? Need to look into this as a top priority."
   ]
  },
  {
   "cell_type": "code",
   "execution_count": 19,
   "metadata": {},
   "outputs": [
    {
     "data": {
      "text/plain": [
       "993"
      ]
     },
     "execution_count": 19,
     "metadata": {},
     "output_type": "execute_result"
    }
   ],
   "source": [
    "tn_food_access_df['CT_Clean'].nunique()"
   ]
  },
  {
   "cell_type": "code",
   "execution_count": 30,
   "metadata": {},
   "outputs": [],
   "source": [
    "# https://saturncloud.io/blog/how-to-check-for-duplicate-values-in-pandas-dataframe-column/#:~:text=To%20check%20for%20duplicate%20values%20in%20a%20Pandas%20DataFrame%20column,is%20a%20duplicate%20or%20not.\n",
    "# duplicate_values = df['Product'].duplicated()\n",
    "# print(duplicate_values)\n",
    "\n",
    "duplicate_CTs = tn_food_access_df['CT_Clean'].duplicated()\n",
    "duplicate_CTs_to_csv = pd.DataFrame(duplicate_CTs)\n",
    "duplicate_CTs_to_csv.to_csv('duplicate_CTs.csv')\n"
   ]
  },
  {
   "cell_type": "markdown",
   "metadata": {},
   "source": [
    "Pulling average, median, maximum and minimum population values. "
   ]
  },
  {
   "cell_type": "code",
   "execution_count": 7,
   "metadata": {},
   "outputs": [
    {
     "data": {
      "text/plain": [
       "4261.991269308261"
      ]
     },
     "execution_count": 7,
     "metadata": {},
     "output_type": "execute_result"
    }
   ],
   "source": [
    "tn_food_access_df['Pop2010'].mean()"
   ]
  },
  {
   "cell_type": "markdown",
   "metadata": {},
   "source": [
    "The average exceeds median population in Tennessee by about 200 people."
   ]
  },
  {
   "cell_type": "code",
   "execution_count": 8,
   "metadata": {},
   "outputs": [
    {
     "data": {
      "text/plain": [
       "4059.0"
      ]
     },
     "execution_count": 8,
     "metadata": {},
     "output_type": "execute_result"
    }
   ],
   "source": [
    "tn_food_access_df['Pop2010'].median()"
   ]
  },
  {
   "cell_type": "markdown",
   "metadata": {},
   "source": [
    "Maximum population in any census tract is 21,763 people in CT 501.01 Williamson County.\n",
    "\n",
    "Williamson County is just south of Nashville and includes Franklin, TN."
   ]
  },
  {
   "cell_type": "code",
   "execution_count": 17,
   "metadata": {},
   "outputs": [
    {
     "data": {
      "text/html": [
       "<div>\n",
       "<style scoped>\n",
       "    .dataframe tbody tr th:only-of-type {\n",
       "        vertical-align: middle;\n",
       "    }\n",
       "\n",
       "    .dataframe tbody tr th {\n",
       "        vertical-align: top;\n",
       "    }\n",
       "\n",
       "    .dataframe thead th {\n",
       "        text-align: right;\n",
       "    }\n",
       "</style>\n",
       "<table border=\"1\" class=\"dataframe\">\n",
       "  <thead>\n",
       "    <tr style=\"text-align: right;\">\n",
       "      <th></th>\n",
       "      <th>CT_Clean</th>\n",
       "      <th>County</th>\n",
       "      <th>Urban</th>\n",
       "      <th>Pop2010</th>\n",
       "      <th>OHU2010</th>\n",
       "      <th>GroupQuartersFlag</th>\n",
       "      <th>NUMGQTRS</th>\n",
       "      <th>PCTGQTRS</th>\n",
       "      <th>LILATracts_1And10</th>\n",
       "      <th>LILATracts_halfAnd10</th>\n",
       "      <th>...</th>\n",
       "      <th>TractSeniors</th>\n",
       "      <th>TractWhite</th>\n",
       "      <th>TractBlack</th>\n",
       "      <th>TractAsian</th>\n",
       "      <th>TractNHOPI</th>\n",
       "      <th>TractAIAN</th>\n",
       "      <th>TractOMultir</th>\n",
       "      <th>TractHispanic</th>\n",
       "      <th>TractHUNV</th>\n",
       "      <th>TractSNAP</th>\n",
       "    </tr>\n",
       "  </thead>\n",
       "  <tbody>\n",
       "    <tr>\n",
       "      <th>1467</th>\n",
       "      <td>512.02</td>\n",
       "      <td>Williamson County</td>\n",
       "      <td>1</td>\n",
       "      <td>21763</td>\n",
       "      <td>6999</td>\n",
       "      <td>0</td>\n",
       "      <td>0</td>\n",
       "      <td>0.0</td>\n",
       "      <td>0</td>\n",
       "      <td>0</td>\n",
       "      <td>...</td>\n",
       "      <td>869</td>\n",
       "      <td>19606</td>\n",
       "      <td>990</td>\n",
       "      <td>363</td>\n",
       "      <td>38</td>\n",
       "      <td>40</td>\n",
       "      <td>726</td>\n",
       "      <td>1217</td>\n",
       "      <td>58</td>\n",
       "      <td>150</td>\n",
       "    </tr>\n",
       "  </tbody>\n",
       "</table>\n",
       "<p>1 rows × 146 columns</p>\n",
       "</div>"
      ],
      "text/plain": [
       "      CT_Clean             County  Urban  Pop2010  OHU2010  GroupQuartersFlag  \\\n",
       "1467    512.02  Williamson County      1    21763     6999                  0   \n",
       "\n",
       "      NUMGQTRS  PCTGQTRS  LILATracts_1And10  LILATracts_halfAnd10  ...  \\\n",
       "1467         0       0.0                  0                     0  ...   \n",
       "\n",
       "      TractSeniors  TractWhite  TractBlack  TractAsian  TractNHOPI  TractAIAN  \\\n",
       "1467           869       19606         990         363          38         40   \n",
       "\n",
       "      TractOMultir  TractHispanic  TractHUNV  TractSNAP  \n",
       "1467           726           1217         58        150  \n",
       "\n",
       "[1 rows x 146 columns]"
      ]
     },
     "execution_count": 17,
     "metadata": {},
     "output_type": "execute_result"
    }
   ],
   "source": [
    "# https://stackoverflow.com/questions/71828530/printing-the-whole-row-of-my-data-from-a-max-value-in-a-column\n",
    "tn_food_access_df[tn_food_access_df['Pop2010'].iloc[:]==tn_food_access_df['Pop2010'].iloc[:].max()]"
   ]
  },
  {
   "cell_type": "markdown",
   "metadata": {},
   "source": [
    "Pulling minimum population, I'm seeing two lines that appear to have the same census tract number. \n",
    "\n",
    "Sevier County and Hamilton County are hours apart by car, so assuming this is some kind of database error.\n",
    "\n",
    "* Sevier County is east and slightly south of Knoxville and includes Gatlinburg.\n",
    "\n",
    "* Hamilton County is in southeast Tennessee and includes Chattanooga."
   ]
  },
  {
   "cell_type": "code",
   "execution_count": 18,
   "metadata": {},
   "outputs": [
    {
     "data": {
      "text/html": [
       "<div>\n",
       "<style scoped>\n",
       "    .dataframe tbody tr th:only-of-type {\n",
       "        vertical-align: middle;\n",
       "    }\n",
       "\n",
       "    .dataframe tbody tr th {\n",
       "        vertical-align: top;\n",
       "    }\n",
       "\n",
       "    .dataframe thead th {\n",
       "        text-align: right;\n",
       "    }\n",
       "</style>\n",
       "<table border=\"1\" class=\"dataframe\">\n",
       "  <thead>\n",
       "    <tr style=\"text-align: right;\">\n",
       "      <th></th>\n",
       "      <th>CT_Clean</th>\n",
       "      <th>County</th>\n",
       "      <th>Urban</th>\n",
       "      <th>Pop2010</th>\n",
       "      <th>OHU2010</th>\n",
       "      <th>GroupQuartersFlag</th>\n",
       "      <th>NUMGQTRS</th>\n",
       "      <th>PCTGQTRS</th>\n",
       "      <th>LILATracts_1And10</th>\n",
       "      <th>LILATracts_halfAnd10</th>\n",
       "      <th>...</th>\n",
       "      <th>TractSeniors</th>\n",
       "      <th>TractWhite</th>\n",
       "      <th>TractBlack</th>\n",
       "      <th>TractAsian</th>\n",
       "      <th>TractNHOPI</th>\n",
       "      <th>TractAIAN</th>\n",
       "      <th>TractOMultir</th>\n",
       "      <th>TractHispanic</th>\n",
       "      <th>TractHUNV</th>\n",
       "      <th>TractSNAP</th>\n",
       "    </tr>\n",
       "  </thead>\n",
       "  <tbody>\n",
       "    <tr>\n",
       "      <th>529</th>\n",
       "      <td>801.0</td>\n",
       "      <td>Hamilton County</td>\n",
       "      <td>1</td>\n",
       "      <td>1</td>\n",
       "      <td>1</td>\n",
       "      <td>0</td>\n",
       "      <td>0</td>\n",
       "      <td>0.0</td>\n",
       "      <td>0</td>\n",
       "      <td>0</td>\n",
       "      <td>...</td>\n",
       "      <td>0</td>\n",
       "      <td>1</td>\n",
       "      <td>0</td>\n",
       "      <td>0</td>\n",
       "      <td>0</td>\n",
       "      <td>0</td>\n",
       "      <td>0</td>\n",
       "      <td>0</td>\n",
       "      <td>0</td>\n",
       "      <td>0</td>\n",
       "    </tr>\n",
       "    <tr>\n",
       "      <th>1043</th>\n",
       "      <td>801.0</td>\n",
       "      <td>Sevier County</td>\n",
       "      <td>0</td>\n",
       "      <td>1</td>\n",
       "      <td>1</td>\n",
       "      <td>0</td>\n",
       "      <td>0</td>\n",
       "      <td>0.0</td>\n",
       "      <td>0</td>\n",
       "      <td>0</td>\n",
       "      <td>...</td>\n",
       "      <td>0</td>\n",
       "      <td>1</td>\n",
       "      <td>0</td>\n",
       "      <td>0</td>\n",
       "      <td>0</td>\n",
       "      <td>0</td>\n",
       "      <td>0</td>\n",
       "      <td>0</td>\n",
       "      <td>0</td>\n",
       "      <td>0</td>\n",
       "    </tr>\n",
       "  </tbody>\n",
       "</table>\n",
       "<p>2 rows × 146 columns</p>\n",
       "</div>"
      ],
      "text/plain": [
       "      CT_Clean           County  Urban  Pop2010  OHU2010  GroupQuartersFlag  \\\n",
       "529      801.0  Hamilton County      1        1        1                  0   \n",
       "1043     801.0    Sevier County      0        1        1                  0   \n",
       "\n",
       "      NUMGQTRS  PCTGQTRS  LILATracts_1And10  LILATracts_halfAnd10  ...  \\\n",
       "529          0       0.0                  0                     0  ...   \n",
       "1043         0       0.0                  0                     0  ...   \n",
       "\n",
       "      TractSeniors  TractWhite  TractBlack  TractAsian  TractNHOPI  TractAIAN  \\\n",
       "529              0           1           0           0           0          0   \n",
       "1043             0           1           0           0           0          0   \n",
       "\n",
       "      TractOMultir  TractHispanic  TractHUNV  TractSNAP  \n",
       "529              0              0          0          0  \n",
       "1043             0              0          0          0  \n",
       "\n",
       "[2 rows x 146 columns]"
      ]
     },
     "execution_count": 18,
     "metadata": {},
     "output_type": "execute_result"
    }
   ],
   "source": [
    "tn_food_access_df[tn_food_access_df['Pop2010'].iloc[:]==tn_food_access_df['Pop2010'].iloc[:].min()]"
   ]
  },
  {
   "cell_type": "code",
   "execution_count": 26,
   "metadata": {},
   "outputs": [],
   "source": [
    "# # Creating a DataFrame\n",
    "# DataSample= [[10,'value1'], \n",
    "#              [20,'value2'], \n",
    "#              [30,'value3']]\n",
    "# SimpleDataFrame=pd.DataFrame(data=DataSample, columns=['Col1','Col2'])\n",
    "# print(SimpleDataFrame)\n",
    " \n",
    "# # Exporting data frame to a csv/Excel file\n",
    "# # Many other options are available which can be seen using dot tab option\n",
    " \n",
    "# # Exporting data as a csv file\n",
    "# SimpleDataFrame.to_csv('C:/Users/fhashmi/SimpleDataFrame.csv')\n",
    " \n",
    "# # Exporting data as a excel file\n",
    "# SimpleDataFrame.to_excel('C:/Users/fhashmi/SimpleDataFrameExcel.xlsx')"
   ]
  },
  {
   "cell_type": "markdown",
   "metadata": {},
   "source": [
    "Saving a CSV to the data folder with population by county. (Also commenting it out so I don't get a new one each time I run the notebook.)"
   ]
  },
  {
   "cell_type": "code",
   "execution_count": 29,
   "metadata": {},
   "outputs": [],
   "source": [
    "# data.groupby(['month','network_type'])['date'].count()\n",
    "pop_by_county = tn_food_access_df.groupby(['County'])['Pop2010'].mean()\n",
    "pop_by_county_to_csv = pd.DataFrame(pop_by_county)\n",
    "# pop_by_county_to_csv.to_csv('pop_by_county.csv')"
   ]
  },
  {
   "cell_type": "code",
   "execution_count": 38,
   "metadata": {},
   "outputs": [
    {
     "data": {
      "image/png": "[encoded data removed]",
      "text/plain": [
       "<Figure size 640x480 with 1 Axes>"
      ]
     },
     "metadata": {},
     "output_type": "display_data"
    }
   ],
   "source": [
    "sns.scatterplot(tn_food_access_df, x='Pop2010', y='TractLOWI')\n",
    "plt.title='Total Population Count and Low Income Population'"
   ]
  }
 ],
 "metadata": {
  "kernelspec": {
   "display_name": "base",
   "language": "python",
   "name": "python3"
  },
  "language_info": {
   "codemirror_mode": {
    "name": "ipython",
    "version": 3
   },
   "file_extension": ".py",
   "mimetype": "text/x-python",
   "name": "python",
   "nbconvert_exporter": "python",
   "pygments_lexer": "ipython3",
   "version": "3.11.5"
  }
 },
 "nbformat": 4,
 "nbformat_minor": 2
}
