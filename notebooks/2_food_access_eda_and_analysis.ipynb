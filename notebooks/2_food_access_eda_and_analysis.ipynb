{
 "cells": [
  {
   "cell_type": "markdown",
   "metadata": {},
   "source": [
    "### Exploratory Data Analysis - USDA Food Access Research Atlas (Tennessee data only)"
   ]
  },
  {
   "cell_type": "code",
   "execution_count": null,
   "metadata": {},
   "outputs": [],
   "source": [
    "import pandas as pd\n",
    "from matplotlib import pyplot as plt\n",
    "import seaborn as sns\n",
    "import numpy as np\n"
   ]
  },
  {
   "cell_type": "code",
   "execution_count": null,
   "metadata": {},
   "outputs": [],
   "source": [
    "tn_food_access_df = pd.read_csv('../data/tn_food_access.csv')"
   ]
  },
  {
   "cell_type": "code",
   "execution_count": null,
   "metadata": {},
   "outputs": [],
   "source": [
    "tn_food_access_df = tn_food_access_df.drop('State', axis=1)"
   ]
  },
  {
   "cell_type": "code",
   "execution_count": null,
   "metadata": {},
   "outputs": [],
   "source": [
    "tn_food_access_df = tn_food_access_df.replace(r'^\\s*$', np.nan, regex=True)"
   ]
  },
  {
   "cell_type": "code",
   "execution_count": null,
   "metadata": {},
   "outputs": [],
   "source": [
    "# tn_food_access_df_fillna.to_csv('tn_food_access_nan.csv')"
   ]
  },
  {
   "cell_type": "markdown",
   "metadata": {},
   "source": [
    "Getting a general sense of the data ..."
   ]
  },
  {
   "cell_type": "code",
   "execution_count": null,
   "metadata": {},
   "outputs": [],
   "source": [
    "tn_food_access_df.head()"
   ]
  },
  {
   "cell_type": "code",
   "execution_count": null,
   "metadata": {},
   "outputs": [],
   "source": [
    "tn_food_access_df['CT_Clean'].info()"
   ]
  },
  {
   "cell_type": "markdown",
   "metadata": {},
   "source": [
    "993 unique entries for census tract, yet 1,489 total? Need to look into this as a top priority."
   ]
  },
  {
   "cell_type": "code",
   "execution_count": null,
   "metadata": {},
   "outputs": [],
   "source": [
    "tn_food_access_df['CT_Clean'].nunique()"
   ]
  },
  {
   "cell_type": "code",
   "execution_count": null,
   "metadata": {},
   "outputs": [],
   "source": [
    "# https://saturncloud.io/blog/how-to-check-for-duplicate-values-in-pandas-dataframe-column/#:~:text=To%20check%20for%20duplicate%20values%20in%20a%20Pandas%20DataFrame%20column,is%20a%20duplicate%20or%20not.\n",
    "# duplicate_values = df['Product'].duplicated()\n",
    "# print(duplicate_values)\n",
    "\n",
    "duplicate_CTs = tn_food_access_df['CT_Clean'].duplicated()\n",
    "duplicate_CTs_to_csv = pd.DataFrame(duplicate_CTs)\n",
    "# duplicate_CTs_to_csv.to_csv('duplicate_CTs.csv')\n"
   ]
  },
  {
   "cell_type": "markdown",
   "metadata": {},
   "source": [
    "ISSUE FOR REVIEW: converting the census tract numbers to match the census reporter data did not work and created duplicate census tract IDs in about 1/3 of the data. I will probably need to go back and change some things but need some help troubleshooting and figuring out where to start/what's needed."
   ]
  },
  {
   "cell_type": "code",
   "execution_count": null,
   "metadata": {},
   "outputs": [],
   "source": [
    "tn_food_access_df['CT_Old'].info()"
   ]
  },
  {
   "cell_type": "code",
   "execution_count": null,
   "metadata": {},
   "outputs": [],
   "source": [
    "tn_food_access_df['CT_Old'].nunique()"
   ]
  },
  {
   "cell_type": "markdown",
   "metadata": {},
   "source": [
    "Pulling average, median, maximum and minimum population values. "
   ]
  },
  {
   "cell_type": "code",
   "execution_count": null,
   "metadata": {},
   "outputs": [],
   "source": [
    "tn_food_access_df['Pop2010'].mean()"
   ]
  },
  {
   "cell_type": "markdown",
   "metadata": {},
   "source": [
    "The average exceeds median population in Tennessee by about 200 people."
   ]
  },
  {
   "cell_type": "code",
   "execution_count": null,
   "metadata": {},
   "outputs": [],
   "source": [
    "tn_food_access_df['Pop2010'].median()"
   ]
  },
  {
   "cell_type": "markdown",
   "metadata": {},
   "source": [
    "Maximum population in any census tract is 21,763 people in CT 501.01 Williamson County.\n",
    "\n",
    "Williamson County is just south of Nashville and includes Franklin, TN."
   ]
  },
  {
   "cell_type": "code",
   "execution_count": null,
   "metadata": {},
   "outputs": [],
   "source": [
    "# https://stackoverflow.com/questions/71828530/printing-the-whole-row-of-my-data-from-a-max-value-in-a-column\n",
    "tn_food_access_df[tn_food_access_df['Pop2010'].iloc[:]==tn_food_access_df['Pop2010'].iloc[:].max()]"
   ]
  },
  {
   "cell_type": "markdown",
   "metadata": {},
   "source": [
    "Pulling minimum population, I'm seeing two lines that appear to have the same census tract number. \n",
    "\n",
    "Sevier County and Hamilton County are hours apart by car, so assuming this is some kind of database error.\n",
    "\n",
    "* Sevier County is east and slightly south of Knoxville and includes Gatlinburg.\n",
    "\n",
    "* Hamilton County is in southeast Tennessee and includes Chattanooga."
   ]
  },
  {
   "cell_type": "code",
   "execution_count": null,
   "metadata": {},
   "outputs": [],
   "source": [
    "tn_food_access_df[tn_food_access_df['Pop2010'].iloc[:]==tn_food_access_df['Pop2010'].iloc[:].min()]"
   ]
  },
  {
   "cell_type": "code",
   "execution_count": null,
   "metadata": {},
   "outputs": [],
   "source": [
    "# https://thinkingneuron.com/exporting-data-out-of-python/\n",
    "# # Creating a DataFrame\n",
    "# DataSample= [[10,'value1'], \n",
    "#              [20,'value2'], \n",
    "#              [30,'value3']]\n",
    "# SimpleDataFrame=pd.DataFrame(data=DataSample, columns=['Col1','Col2'])\n",
    "# print(SimpleDataFrame)\n",
    " \n",
    "# # Exporting data frame to a csv/Excel file\n",
    "# # Many other options are available which can be seen using dot tab option\n",
    " \n",
    "# # Exporting data as a csv file\n",
    "# SimpleDataFrame.to_csv('C:/Users/fhashmi/SimpleDataFrame.csv')\n",
    " \n",
    "# # Exporting data as a excel file\n",
    "# SimpleDataFrame.to_excel('C:/Users/fhashmi/SimpleDataFrameExcel.xlsx')"
   ]
  },
  {
   "cell_type": "markdown",
   "metadata": {},
   "source": [
    "Saving a CSV to the data folder with population by county. (Also commenting it out so I don't get a new one each time I run the notebook.)"
   ]
  },
  {
   "cell_type": "code",
   "execution_count": null,
   "metadata": {},
   "outputs": [],
   "source": [
    "# data.groupby(['month','network_type'])['date'].count()\n",
    "pop_by_county = tn_food_access_df.groupby(['County'])['Pop2010'].mean()\n",
    "pop_by_county_to_csv = pd.DataFrame(pop_by_county)\n",
    "# pop_by_county_to_csv.to_csv('pop_by_county.csv')"
   ]
  },
  {
   "cell_type": "markdown",
   "metadata": {},
   "source": [
    "Maybe a few graphs to get started and help guide where to go."
   ]
  },
  {
   "cell_type": "code",
   "execution_count": null,
   "metadata": {},
   "outputs": [],
   "source": [
    "# https://stackoverflow.com/questions/19442060/matplotlib-pyplot-titlestring-returns-error\n",
    "# this was a fix for the title error I was getting (\"'str' object is not callable\")\n",
    "import matplotlib.pyplot as plt\n",
    "from importlib import reload\n",
    "plt=reload(plt)"
   ]
  },
  {
   "cell_type": "code",
   "execution_count": null,
   "metadata": {},
   "outputs": [],
   "source": [
    "sns.scatterplot(data=tn_food_access_df, x='Pop2010', y='TractLOWI')\n",
    "plt.title('Total Population and Low Income Population')"
   ]
  },
  {
   "cell_type": "markdown",
   "metadata": {},
   "source": [
    "The above scatterplot isn't groundbreaking, but it does show that as total population increases, low income population does too. Makes sense, though the correlation seems like it's higher than I would have expected. Some more work here couldn't hurt. Maybe this? https://forecastegy.com/posts/correlation-between-two-time-series-python/"
   ]
  },
  {
   "cell_type": "code",
   "execution_count": null,
   "metadata": {},
   "outputs": [],
   "source": [
    "sns.scatterplot(data=tn_food_access_df, x='Pop2010', y='TractSNAP')\n",
    "plt.title('Total Population and Housing Units With SNAP')"
   ]
  },
  {
   "cell_type": "code",
   "execution_count": null,
   "metadata": {},
   "outputs": [],
   "source": [
    "sns.scatterplot(data=tn_food_access_df, x='Pop2010', y='TractHUNV')\n",
    "plt.title('Total Population and Housing Units Without Vehicle Access')"
   ]
  },
  {
   "cell_type": "markdown",
   "metadata": {},
   "source": [
    "Going to have to rethink how I analyze the places with just a flag, like the LILATracts_1and20"
   ]
  },
  {
   "cell_type": "code",
   "execution_count": null,
   "metadata": {},
   "outputs": [],
   "source": [
    "sns.scatterplot(data=tn_food_access_df, x='Pop2010', y='LILATracts_1And20')\n",
    "plt.title('Total Population and Low Access/Low Income at 1 Mile Urban and 20 Miles Rural')"
   ]
  }
 ],
 "metadata": {
  "kernelspec": {
   "display_name": "base",
   "language": "python",
   "name": "python3"
  },
  "language_info": {
   "codemirror_mode": {
    "name": "ipython",
    "version": 3
   },
   "file_extension": ".py",
   "mimetype": "text/x-python",
   "name": "python",
   "nbconvert_exporter": "python",
   "pygments_lexer": "ipython3",
   "version": "3.11.5"
  }
 },
 "nbformat": 4,
 "nbformat_minor": 2
}
