{
 "cells": [
  {
   "cell_type": "code",
   "execution_count": 2,
   "metadata": {},
   "outputs": [],
   "source": [
    "import pandas as pd\n",
    "from matplotlib import pyplot as plt\n",
    "import seaborn as sns\n",
    "import numpy as np"
   ]
  },
  {
   "cell_type": "code",
   "execution_count": 3,
   "metadata": {},
   "outputs": [],
   "source": [
    "food_access_df = pd.read_excel('../data/2019_FoodAccess.xlsx')"
   ]
  },
  {
   "cell_type": "code",
   "execution_count": 4,
   "metadata": {},
   "outputs": [],
   "source": [
    "food_access_df['pct_ohu_snap'] = round((food_access_df['TractSNAP']/food_access_df['OHU2010']*100),2)\n",
    "food_access_df['pct_LOWI'] = round((food_access_df['TractLOWI']/food_access_df['Pop2010']*100),2)\n",
    "food_access_df['pct_kids'] = round((food_access_df['TractKids']/food_access_df['Pop2010']*100),2)\n",
    "food_access_df['pct_seniors'] = round((food_access_df['TractSeniors']/food_access_df['Pop2010']*100),2)\n",
    "food_access_df['pct_white'] = round((food_access_df['TractWhite']/food_access_df['Pop2010']*100),2)\n",
    "food_access_df['pct_black'] = round((food_access_df['TractBlack']/food_access_df['Pop2010']*100),2)\n",
    "food_access_df['pct_asian'] = round((food_access_df['TractAsian']/food_access_df['Pop2010']*100),2)\n",
    "food_access_df['pct_pac_isl'] = round((food_access_df['TractNHOPI']/food_access_df['Pop2010']*100),2)\n",
    "food_access_df['pct_aian'] = round((food_access_df['TractAIAN']/food_access_df['Pop2010']*100),2)\n",
    "food_access_df['pct_o_multir'] = round((food_access_df['TractOMultir']/food_access_df['Pop2010']*100),2)\n",
    "food_access_df['pct_hispanic'] = round((food_access_df['TractHispanic']/food_access_df['Pop2010']*100),2)\n",
    "food_access_df['pct_no_vehicle'] = round((food_access_df['TractHUNV']/food_access_df['OHU2010']*100),2)\n",
    "food_access_df['pct_lapop1_10'] = round((food_access_df['LAPOP1_10']/food_access_df['Pop2010']*100),2)\n",
    "food_access_df['pct_lapop05_10'] = round((food_access_df['LAPOP05_10']/food_access_df['Pop2010']*100),2)\n",
    "food_access_df['pct_lapop1_20'] = round((food_access_df['LAPOP1_20']/food_access_df['Pop2010']*100),2)\n",
    "food_access_df['pct_lalowi1_10'] = round((food_access_df['LALOWI1_10']/food_access_df['Pop2010']*100),2)\n",
    "food_access_df['pct_lalowi05_10'] = round((food_access_df['LALOWI05_10']/food_access_df['Pop2010']*100),2)\n",
    "food_access_df['pct_lalowi1_20'] = round((food_access_df['LALOWI1_20']/food_access_df['Pop2010']*100),2)"
   ]
  },
  {
   "cell_type": "code",
   "execution_count": 5,
   "metadata": {},
   "outputs": [],
   "source": [
    "food_access_df.to_excel('food_access_2019_tableau.xlsx')"
   ]
  }
 ],
 "metadata": {
  "kernelspec": {
   "display_name": "base",
   "language": "python",
   "name": "python3"
  },
  "language_info": {
   "codemirror_mode": {
    "name": "ipython",
    "version": 3
   },
   "file_extension": ".py",
   "mimetype": "text/x-python",
   "name": "python",
   "nbconvert_exporter": "python",
   "pygments_lexer": "ipython3",
   "version": "3.11.5"
  }
 },
 "nbformat": 4,
 "nbformat_minor": 2
}
