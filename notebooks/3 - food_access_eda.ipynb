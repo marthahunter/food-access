{
 "cells": [
  {
   "cell_type": "code",
   "execution_count": null,
   "metadata": {},
   "outputs": [],
   "source": [
    "import pandas as pd\n",
    "from matplotlib import pyplot as plt\n",
    "import seaborn as sns\n",
    "import numpy as np"
   ]
  },
  {
   "cell_type": "code",
   "execution_count": null,
   "metadata": {},
   "outputs": [],
   "source": [
    "tn_food_access_df = pd.read_csv('../data/tn_food_access_clean.csv')"
   ]
  },
  {
   "cell_type": "code",
   "execution_count": null,
   "metadata": {},
   "outputs": [],
   "source": [
    "tn_food_access_df.head()"
   ]
  },
  {
   "cell_type": "markdown",
   "metadata": {},
   "source": [
    "Saving a CSV to the data folder with population by county. (Also commenting it out so I don't get a new one each time I run the notebook.)"
   ]
  },
  {
   "cell_type": "code",
   "execution_count": null,
   "metadata": {},
   "outputs": [],
   "source": [
    "# data.groupby(['month','network_type'])['date'].count()\n",
    "pop_by_county = tn_food_access_df.groupby(['county'])['Pop2010'].mean()\n",
    "pop_by_county_df = pd.DataFrame(pop_by_county)\n",
    "# pop_by_county_to_csv.to_csv('pop_by_county.csv')"
   ]
  },
  {
   "cell_type": "code",
   "execution_count": null,
   "metadata": {},
   "outputs": [],
   "source": [
    "pop_by_county_df = pop_by_county_df.reset_index()"
   ]
  },
  {
   "cell_type": "code",
   "execution_count": null,
   "metadata": {},
   "outputs": [],
   "source": [
    "pop_by_county_df.head()"
   ]
  },
  {
   "cell_type": "code",
   "execution_count": null,
   "metadata": {},
   "outputs": [],
   "source": [
    "sns.histplot(pop_by_county_df)"
   ]
  },
  {
   "cell_type": "markdown",
   "metadata": {},
   "source": [
    "Pulling average, median, maximum and minimum population values. "
   ]
  },
  {
   "cell_type": "code",
   "execution_count": null,
   "metadata": {},
   "outputs": [],
   "source": [
    "tn_food_access_df['Pop2010'].mean()"
   ]
  },
  {
   "cell_type": "markdown",
   "metadata": {},
   "source": [
    "The average exceeds median population in Tennessee by about 200 people."
   ]
  },
  {
   "cell_type": "code",
   "execution_count": null,
   "metadata": {},
   "outputs": [],
   "source": [
    "tn_food_access_df['Pop2010'].median()"
   ]
  },
  {
   "cell_type": "markdown",
   "metadata": {},
   "source": [
    "Maximum population in any census tract is 21,763 people in CT 501.01 Williamson County.\n",
    "\n",
    "Williamson County is just south of Nashville and includes Franklin, TN."
   ]
  },
  {
   "cell_type": "code",
   "execution_count": null,
   "metadata": {},
   "outputs": [],
   "source": [
    "# https://stackoverflow.com/questions/71828530/printing-the-whole-row-of-my-data-from-a-max-value-in-a-column\n",
    "tn_food_access_df[tn_food_access_df['Pop2010'].iloc[:]==tn_food_access_df['Pop2010'].iloc[:].max()]"
   ]
  },
  {
   "cell_type": "code",
   "execution_count": null,
   "metadata": {},
   "outputs": [],
   "source": [
    "# https://stackoverflow.com/questions/19442060/matplotlib-pyplot-titlestring-returns-error\n",
    "# this was a fix for the title error I was getting (\"'str' object is not callable\")\n",
    "import matplotlib.pyplot as plt\n",
    "from importlib import reload\n",
    "plt=reload(plt)"
   ]
  },
  {
   "cell_type": "code",
   "execution_count": null,
   "metadata": {},
   "outputs": [],
   "source": [
    "sns.scatterplot(data=tn_food_access_df, x='Pop2010', y='TractSNAP')\n",
    "plt.title('Total Population and Housing Units With SNAP')"
   ]
  },
  {
   "cell_type": "markdown",
   "metadata": {},
   "source": [
    "https://forecastegy.com/posts/correlation-between-two-time-series-python/"
   ]
  },
  {
   "cell_type": "code",
   "execution_count": null,
   "metadata": {},
   "outputs": [],
   "source": [
    "sns.scatterplot(data=tn_food_access_df, x='Pop2010', y='TractHUNV')\n",
    "plt.title('Total Population and Housing Units Without Vehicle Access')"
   ]
  },
  {
   "cell_type": "markdown",
   "metadata": {},
   "source": [
    "*** idea: for the flag columns (0 for false and 1 for true), probably best to analyze data flagged for a given variable and compare to data not flagged for the same variable. E.g. population average for tracts with a LILATracts_1And20 flag and population avg for tracts without. ***"
   ]
  },
  {
   "cell_type": "code",
   "execution_count": null,
   "metadata": {},
   "outputs": [],
   "source": [
    "sns.scatterplot(data=tn_food_access_df, x='Pop2010', y='LILATracts_1And20')\n",
    "plt.title('Total Population and Low Access/Low Income at 1 Mile Urban and 20 Miles Rural')"
   ]
  },
  {
   "cell_type": "code",
   "execution_count": null,
   "metadata": {},
   "outputs": [],
   "source": [
    "# https://thinkingneuron.com/exporting-data-out-of-python/\n",
    "# # Creating a DataFrame\n",
    "# DataSample= [[10,'value1'], \n",
    "#              [20,'value2'], \n",
    "#              [30,'value3']]\n",
    "# SimpleDataFrame=pd.DataFrame(data=DataSample, columns=['Col1','Col2'])\n",
    "# print(SimpleDataFrame)\n",
    " \n",
    "# # Exporting data frame to a csv/Excel file\n",
    "# # Many other options are available which can be seen using dot tab option\n",
    " \n",
    "# # Exporting data as a csv file\n",
    "# SimpleDataFrame.to_csv('C:/Users/fhashmi/SimpleDataFrame.csv')\n",
    " \n",
    "# # Exporting data as a excel file\n",
    "# SimpleDataFrame.to_excel('C:/Users/fhashmi/SimpleDataFrameExcel.xlsx')"
   ]
  }
 ],
 "metadata": {
  "kernelspec": {
   "display_name": "base",
   "language": "python",
   "name": "python3"
  },
  "language_info": {
   "codemirror_mode": {
    "name": "ipython",
    "version": 3
   },
   "file_extension": ".py",
   "mimetype": "text/x-python",
   "name": "python",
   "nbconvert_exporter": "python",
   "pygments_lexer": "ipython3",
   "version": "3.11.5"
  }
 },
 "nbformat": 4,
 "nbformat_minor": 2
}
