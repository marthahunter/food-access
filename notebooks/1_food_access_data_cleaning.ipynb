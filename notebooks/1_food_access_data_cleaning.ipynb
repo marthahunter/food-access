{
 "cells": [
  {
   "cell_type": "markdown",
   "id": "10d64819",
   "metadata": {},
   "source": [
    "Importing packages"
   ]
  },
  {
   "cell_type": "code",
   "execution_count": null,
   "id": "d8db0aae",
   "metadata": {},
   "outputs": [],
   "source": [
    "import pandas as pd\n",
    "from matplotlib import pyplot as plt\n",
    "import seaborn as sns\n",
    "import numpy as np"
   ]
  },
  {
   "cell_type": "markdown",
   "id": "a66d9a51",
   "metadata": {},
   "source": [
    "Importing food access dataset"
   ]
  },
  {
   "cell_type": "code",
   "execution_count": null,
   "id": "1ca9db77",
   "metadata": {},
   "outputs": [],
   "source": [
    "food_access_df = pd.read_csv('../data/food_access.csv')"
   ]
  },
  {
   "cell_type": "markdown",
   "id": "9f8d0117",
   "metadata": {},
   "source": [
    "Checking head/info"
   ]
  },
  {
   "cell_type": "markdown",
   "id": "ac908ecb",
   "metadata": {},
   "source": [
    "// TO DO: Isolate just the TN data from `food_access_df` and read into a new dataframe."
   ]
  },
  {
   "cell_type": "code",
   "execution_count": null,
   "id": "957c8af0",
   "metadata": {},
   "outputs": [],
   "source": [
    "food_access_df.head()"
   ]
  },
  {
   "cell_type": "markdown",
   "id": "914bbedc",
   "metadata": {},
   "source": [
    "Filtering `food_access_df` into new DataFrame with just the TN entries."
   ]
  },
  {
   "cell_type": "code",
   "execution_count": null,
   "id": "96748a55",
   "metadata": {},
   "outputs": [],
   "source": [
    "tn_food_access_df = food_access_df[food_access_df['State']=='Tennessee']"
   ]
  },
  {
   "cell_type": "code",
   "execution_count": null,
   "id": "a9b0a88e",
   "metadata": {},
   "outputs": [],
   "source": [
    "tn_food_access_df.info()"
   ]
  },
  {
   "cell_type": "markdown",
   "id": "69bcd366",
   "metadata": {},
   "source": [
    "Attempting to edit the `CensusTract` column to match Census tract numbers from `census_income_df`"
   ]
  },
  {
   "cell_type": "markdown",
   "id": "12cc88cd",
   "metadata": {},
   "source": [
    "First checking dtypes and then creating a new `CensusTract_Formatted` column, converting the int64 dtype in `CensusTract` into an object/string."
   ]
  },
  {
   "cell_type": "code",
   "execution_count": null,
   "id": "efecc2f1",
   "metadata": {},
   "outputs": [],
   "source": [
    "tn_food_access_df.dtypes"
   ]
  },
  {
   "cell_type": "code",
   "execution_count": null,
   "id": "05197043",
   "metadata": {},
   "outputs": [],
   "source": [
    "tn_food_access_df['CensusTract_Formatted'] = tn_food_access_df['CensusTract'].astype(str)"
   ]
  },
  {
   "cell_type": "code",
   "execution_count": null,
   "id": "e665d526",
   "metadata": {},
   "outputs": [],
   "source": [
    "# d['Report Number'] = d['Report Number'].str[3:]\n",
    "tn_food_access_df['CensusTract_Formatted2'] = tn_food_access_df['CensusTract_Formatted'].str[6:]"
   ]
  },
  {
   "cell_type": "markdown",
   "id": "19061e39",
   "metadata": {},
   "source": [
    "Creating a new column each time just in case my methods don't work, but also going back to delete unneeded columns. Will rename to `CensusTract_Formatted` once I get the column I need."
   ]
  },
  {
   "cell_type": "code",
   "execution_count": null,
   "id": "1a311ab5",
   "metadata": {},
   "outputs": [],
   "source": [
    "del tn_food_access_df['CensusTract_Formatted']"
   ]
  },
  {
   "cell_type": "markdown",
   "id": "4bbf11db",
   "metadata": {},
   "source": [
    "I probably need to use a lambda argument to insert the decimal point into the existing numbers. This is from Free Code Camp:\n",
    "\n",
    "lambda argument(s) : expression\n",
    "\n",
    "\n",
    "1. lambda is a keyword in Python for defining the anonymous function.\n",
    "2. argument(s) is a placeholder, that is a variable that will be used to hold the value you want to pass into the function expression. A lambda function can have multiple variables depending on what you want to achieve.\n",
    "3. expression is the code you want to execute in the lambda function.\n",
    "\n",
    "https://www.freecodecamp.org/news/python-lambda-function-explained/"
   ]
  },
  {
   "cell_type": "code",
   "execution_count": null,
   "id": "8e86a816",
   "metadata": {},
   "outputs": [],
   "source": [
    "tn_food_access_df['CensusTract_Formatted3'] = tn_food_access_df['CensusTract_Formatted2'].apply(lambda x: x[:3] + '.' + x[3:])"
   ]
  },
  {
   "cell_type": "markdown",
   "id": "b4c1d625",
   "metadata": {},
   "source": [
    "It worked! I can delete the extra CT formatted column and rename #3 to the most current."
   ]
  },
  {
   "cell_type": "code",
   "execution_count": null,
   "id": "c746c8a7",
   "metadata": {},
   "outputs": [],
   "source": [
    "del tn_food_access_df['CensusTract_Formatted2']"
   ]
  },
  {
   "cell_type": "code",
   "execution_count": null,
   "id": "a533d9df",
   "metadata": {},
   "outputs": [],
   "source": [
    "# rename column 'A' to 'X'\n",
    "# df = df.rename(columns={'A': 'X'})\n",
    "\n",
    "tn_food_access_df = tn_food_access_df.rename(columns={'CensusTract':'CT_Old','CensusTract_Formatted3':'CT_Clean'})"
   ]
  },
  {
   "cell_type": "code",
   "execution_count": null,
   "id": "afcb7d9f",
   "metadata": {},
   "outputs": [],
   "source": [
    "tn_food_access_df.head()"
   ]
  },
  {
   "cell_type": "code",
   "execution_count": null,
   "id": "7cd9958e",
   "metadata": {},
   "outputs": [],
   "source": [
    "# https://www.freecodecamp.org/news/dataframe-to-csv-how-to-save-pandas-dataframes-by-exporting/#:~:text=df%20%3D%20pd.DataFrame(Biodata)%20%3A%20This%20creates%20a,CSV%20file%20named%20Biodata.csv%20.\n",
    "# df.to_csv('Biodata.csv', index=False)\n",
    "\n",
    "# tn_food_access_df.to_csv('tn_food_access.csv', index=False)"
   ]
  },
  {
   "cell_type": "code",
   "execution_count": null,
   "id": "8fc7249e",
   "metadata": {},
   "outputs": [],
   "source": [
    "# df.to_csv('Biodata.csv', index=False)\n"
   ]
  },
  {
   "cell_type": "markdown",
   "id": "6c4c4d41",
   "metadata": {},
   "source": [
    "******************************************************************************************************"
   ]
  },
  {
   "cell_type": "markdown",
   "id": "926d49b8",
   "metadata": {},
   "source": [
    "### Census dataset"
   ]
  },
  {
   "cell_type": "markdown",
   "id": "073b88ba",
   "metadata": {},
   "source": [
    "Reading in Census dataset and checking head/info. This will need to be cleaned and transformed!"
   ]
  },
  {
   "cell_type": "code",
   "execution_count": null,
   "id": "3c83b713",
   "metadata": {},
   "outputs": [],
   "source": [
    "census_df = pd.read_excel('../data/census_tn_income_b19001.xlsx')"
   ]
  },
  {
   "cell_type": "code",
   "execution_count": null,
   "id": "ed23495c",
   "metadata": {},
   "outputs": [],
   "source": [
    "census_df.info()"
   ]
  },
  {
   "cell_type": "code",
   "execution_count": null,
   "id": "0d68daf8",
   "metadata": {},
   "outputs": [],
   "source": [
    "census_df.head()"
   ]
  },
  {
   "cell_type": "markdown",
   "id": "6fad392c",
   "metadata": {},
   "source": [
    "Renaming the first column so it doesn't get dropped with the rest of the 'unnamed' columns."
   ]
  },
  {
   "cell_type": "code",
   "execution_count": null,
   "id": "d60460e5",
   "metadata": {},
   "outputs": [],
   "source": [
    "census_df_clean = census_df.rename(columns={'Unnamed: 0':'1', 'Tennessee':'2'}) # census_tract will the the right label once the data is transposed\n",
    "census_df_clean.head()"
   ]
  },
  {
   "cell_type": "code",
   "execution_count": null,
   "id": "7318e42f",
   "metadata": {},
   "outputs": [],
   "source": [
    "census_df_clean.columns.values.tolist()"
   ]
  },
  {
   "cell_type": "markdown",
   "id": "bd1c1c12",
   "metadata": {},
   "source": [
    "Now dropping the `error` columns. I can go back and look at these later, but for now, just the values will do."
   ]
  },
  {
   "cell_type": "code",
   "execution_count": null,
   "id": "d7ebffb6",
   "metadata": {},
   "outputs": [],
   "source": [
    "census_df_clean = census_df_clean[census_df_clean.columns.drop(list(census_df_clean.filter(regex='Unnamed')))]\n"
   ]
  },
  {
   "cell_type": "code",
   "execution_count": null,
   "id": "6db361e3",
   "metadata": {},
   "outputs": [],
   "source": [
    "# https://saturncloud.io/blog/how-to-remove-space-from-columns-in-pandas-a-data-scientists-guide/\n",
    "# df.columns = df.columns.str.replace(' ', '')\n",
    "\n",
    "census_df_clean.columns = census_df_clean.columns.str.replace('Census Tract', '')"
   ]
  },
  {
   "cell_type": "code",
   "execution_count": null,
   "id": "03e0f9dc",
   "metadata": {},
   "outputs": [],
   "source": [
    "census_df_clean.columns = census_df_clean.columns.str.replace(',', '')"
   ]
  },
  {
   "cell_type": "code",
   "execution_count": null,
   "id": "34b571bd",
   "metadata": {},
   "outputs": [],
   "source": [
    "census_df_clean.columns = census_df_clean.columns.str.replace('TN', '')"
   ]
  },
  {
   "cell_type": "code",
   "execution_count": null,
   "id": "8008dfcd",
   "metadata": {},
   "outputs": [],
   "source": [
    "import re\n",
    "a = 'lkdfhisoe78347834 (())&/&745  '\n",
    "census_df_clean.columns = [re.sub('[^0-9.]','', column) for column in census_df_clean.columns]"
   ]
  },
  {
   "cell_type": "code",
   "execution_count": null,
   "id": "d8f1f435",
   "metadata": {},
   "outputs": [],
   "source": [
    "census_df_clean.head()"
   ]
  },
  {
   "cell_type": "code",
   "execution_count": null,
   "id": "21a3375f",
   "metadata": {},
   "outputs": [],
   "source": [
    "census_df_clean = census_df_clean.rename(columns={'1':'header', '2':'tn_totals'})"
   ]
  },
  {
   "cell_type": "code",
   "execution_count": null,
   "id": "796f3b88",
   "metadata": {},
   "outputs": [],
   "source": [
    "census_df_clean.columns.values.tolist()"
   ]
  },
  {
   "cell_type": "code",
   "execution_count": null,
   "id": "96f6da89",
   "metadata": {},
   "outputs": [],
   "source": [
    "census_df_clean.head()"
   ]
  },
  {
   "cell_type": "code",
   "execution_count": null,
   "id": "6339499c",
   "metadata": {},
   "outputs": [],
   "source": [
    "census_df_clean = census_df_clean.iloc[1:,:]"
   ]
  },
  {
   "cell_type": "code",
   "execution_count": null,
   "id": "69a0cc21",
   "metadata": {},
   "outputs": [],
   "source": [
    "census_df_clean.head()"
   ]
  },
  {
   "cell_type": "code",
   "execution_count": null,
   "id": "20869126",
   "metadata": {},
   "outputs": [],
   "source": [
    "census_df_clean_test = census_df_clean.transpose().reset_index()\n",
    "census_df_clean_test.head()"
   ]
  },
  {
   "cell_type": "code",
   "execution_count": null,
   "id": "7bbcf735",
   "metadata": {},
   "outputs": [],
   "source": [
    "census_df_clean_test.columns = census_df_clean_test.iloc[0]\n",
    "census_df_clean_test.head()"
   ]
  },
  {
   "cell_type": "code",
   "execution_count": null,
   "id": "a8a6714a",
   "metadata": {},
   "outputs": [],
   "source": [
    "census_df_clean_test = census_df_clean_test.iloc[1:,:]\n",
    "census_df_clean_test.head()"
   ]
  },
  {
   "cell_type": "code",
   "execution_count": null,
   "id": "31f306f8",
   "metadata": {},
   "outputs": [],
   "source": [
    "census_df_clean_test.columns.values.tolist()"
   ]
  },
  {
   "cell_type": "code",
   "execution_count": null,
   "id": "649b9dde",
   "metadata": {},
   "outputs": [],
   "source": [
    "census_df_clean = census_df_clean_test.rename(columns={'header': 'census_tract', 'Total:': 'total'})\n",
    "census_df_clean.head()\n",
    "# census_df_clean = census_df_clean.rename(columns={list(census_df_clean)[1]: 'value'}, inplace=True)\n",
    "# drugInfo.rename(columns = {list(drugInfo)[1]: 'col_1_new_name'}, inplace = True)\n",
    "# https://stackoverflow.com/questions/26336251/rename-a-single-pandas-dataframe-column-without-knowing-column-name\n",
    "# , 2: 'less_than_10k', 3: '10_to_14.999k',4: '15_to_19.999k',5:'20_to_24.999k',6:'25_to_29.999k',7:'30_to_34.999k',8:'35_to_39.999k',9:'40_to_44.999k',10:'45_to_49.999k',11:'50_to_59.999k',12:'60_to_74.999k', 13:'75_to_99.999k',14:'100_to_124.999k',15:'125_to_149.999k',16:'150_to_199.999k',17:'200k_or_more'"
   ]
  },
  {
   "cell_type": "code",
   "execution_count": null,
   "id": "f939ffe1",
   "metadata": {},
   "outputs": [],
   "source": [
    "# census_df_clean.to_csv('census_data_clean.csv', index=False)"
   ]
  },
  {
   "cell_type": "code",
   "execution_count": null,
   "id": "de06c932",
   "metadata": {},
   "outputs": [],
   "source": [
    "# census_df_clean.head()"
   ]
  },
  {
   "cell_type": "code",
   "execution_count": null,
   "id": "8e5191ab",
   "metadata": {},
   "outputs": [],
   "source": [
    "# census_income_df_clean.columns.values.tolist()"
   ]
  },
  {
   "cell_type": "code",
   "execution_count": null,
   "id": "c136e718",
   "metadata": {},
   "outputs": [],
   "source": [
    "# Use DataFrame.columns.values.tolist() to retrieve a list of columns from the DataFrame header.\n",
    "# https://www.boardinfinity.com/blog/how-to-get-column-names-in-pandas\n",
    "# census_income_df_clean.columns.values.tolist()"
   ]
  },
  {
   "cell_type": "code",
   "execution_count": null,
   "id": "6fe3181c",
   "metadata": {},
   "outputs": [],
   "source": [
    "# census_income_df_cleaner.head()"
   ]
  },
  {
   "cell_type": "code",
   "execution_count": null,
   "id": "6442a340",
   "metadata": {},
   "outputs": [],
   "source": [
    "# https://stackoverflow.com/questions/13682044/remove-unwanted-parts-from-strings-in-a-column\n",
    "# data['result'] = data['result'].map(lambda x: x.lstrip('+-').rstrip('aAbBcC'))\n",
    "\n",
    "# census_income_df_cleaner['CT_1'] = census_income_df_cleaner['census_tract'].rstrip()"
   ]
  }
 ],
 "metadata": {
  "kernelspec": {
   "display_name": "Python 3 (ipykernel)",
   "language": "python",
   "name": "python3"
  },
  "language_info": {
   "codemirror_mode": {
    "name": "ipython",
    "version": 3
   },
   "file_extension": ".py",
   "mimetype": "text/x-python",
   "name": "python",
   "nbconvert_exporter": "python",
   "pygments_lexer": "ipython3",
   "version": "3.11.5"
  }
 },
 "nbformat": 4,
 "nbformat_minor": 5
}
