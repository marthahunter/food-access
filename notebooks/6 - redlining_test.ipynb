{
 "cells": [
  {
   "cell_type": "code",
   "execution_count": 1,
   "metadata": {},
   "outputs": [],
   "source": [
    "# conda activate geospatial"
   ]
  },
  {
   "cell_type": "code",
   "execution_count": 2,
   "metadata": {},
   "outputs": [],
   "source": [
    "import pandas as pd\n",
    "import geopandas as gpd\n",
    "import matplotlib.pyplot as plt\n",
    "import folium\n",
    "from folium.plugins import MarkerCluster\n",
    "from folium.plugins import FastMarkerCluster"
   ]
  },
  {
   "cell_type": "code",
   "execution_count": 3,
   "metadata": {},
   "outputs": [],
   "source": [
    "redlines = gpd.read_file('../data/redlining_nashville.json')"
   ]
  },
  {
   "cell_type": "code",
   "execution_count": 4,
   "metadata": {},
   "outputs": [
    {
     "name": "stdout",
     "output_type": "stream",
     "text": [
      "EPSG:4326\n"
     ]
    },
    {
     "data": {
      "text/html": [
       "<div>\n",
       "<style scoped>\n",
       "    .dataframe tbody tr th:only-of-type {\n",
       "        vertical-align: middle;\n",
       "    }\n",
       "\n",
       "    .dataframe tbody tr th {\n",
       "        vertical-align: top;\n",
       "    }\n",
       "\n",
       "    .dataframe thead th {\n",
       "        text-align: right;\n",
       "    }\n",
       "</style>\n",
       "<table border=\"1\" class=\"dataframe\">\n",
       "  <thead>\n",
       "    <tr style=\"text-align: right;\">\n",
       "      <th></th>\n",
       "      <th>area_id</th>\n",
       "      <th>city_id</th>\n",
       "      <th>grade</th>\n",
       "      <th>fill</th>\n",
       "      <th>label</th>\n",
       "      <th>name</th>\n",
       "      <th>category_id</th>\n",
       "      <th>sheets</th>\n",
       "      <th>area</th>\n",
       "      <th>bounds</th>\n",
       "      <th>residential</th>\n",
       "      <th>commercial</th>\n",
       "      <th>industrial</th>\n",
       "      <th>geometry</th>\n",
       "    </tr>\n",
       "  </thead>\n",
       "  <tbody>\n",
       "    <tr>\n",
       "      <th>0</th>\n",
       "      <td>7963</td>\n",
       "      <td>306</td>\n",
       "      <td>A</td>\n",
       "      <td>#76a865</td>\n",
       "      <td>A</td>\n",
       "      <td></td>\n",
       "      <td>1</td>\n",
       "      <td>0</td>\n",
       "      <td>0.003401</td>\n",
       "      <td>[ [ 36.08502, -86.877920000000003 ], [ 36.1385...</td>\n",
       "      <td>True</td>\n",
       "      <td>False</td>\n",
       "      <td>False</td>\n",
       "      <td>MULTIPOLYGON (((-86.79515 36.11259, -86.79516 ...</td>\n",
       "    </tr>\n",
       "    <tr>\n",
       "      <th>1</th>\n",
       "      <td>7962</td>\n",
       "      <td>306</td>\n",
       "      <td>B</td>\n",
       "      <td>#7cb5bd</td>\n",
       "      <td>B1</td>\n",
       "      <td></td>\n",
       "      <td>2</td>\n",
       "      <td>0</td>\n",
       "      <td>0.001071</td>\n",
       "      <td>[ [ 36.112589999999997, -86.834350000000001 ],...</td>\n",
       "      <td>True</td>\n",
       "      <td>False</td>\n",
       "      <td>False</td>\n",
       "      <td>MULTIPOLYGON (((-86.79193 36.13476, -86.79191 ...</td>\n",
       "    </tr>\n",
       "    <tr>\n",
       "      <th>2</th>\n",
       "      <td>7956</td>\n",
       "      <td>306</td>\n",
       "      <td>B</td>\n",
       "      <td>#7cb5bd</td>\n",
       "      <td>B2</td>\n",
       "      <td></td>\n",
       "      <td>2</td>\n",
       "      <td>0</td>\n",
       "      <td>0.000804</td>\n",
       "      <td>[ [ 36.181040000000003, -86.748919999999998 ],...</td>\n",
       "      <td>True</td>\n",
       "      <td>False</td>\n",
       "      <td>False</td>\n",
       "      <td>MULTIPOLYGON (((-86.72531 36.18166, -86.71981 ...</td>\n",
       "    </tr>\n",
       "    <tr>\n",
       "      <th>3</th>\n",
       "      <td>7964</td>\n",
       "      <td>306</td>\n",
       "      <td>C</td>\n",
       "      <td>#ffff00</td>\n",
       "      <td>C1</td>\n",
       "      <td></td>\n",
       "      <td>3</td>\n",
       "      <td>0</td>\n",
       "      <td>0.000149</td>\n",
       "      <td>[ [ 36.139780000000002, -86.824340000000007 ],...</td>\n",
       "      <td>True</td>\n",
       "      <td>False</td>\n",
       "      <td>False</td>\n",
       "      <td>MULTIPOLYGON (((-86.82434 36.14547, -86.82434 ...</td>\n",
       "    </tr>\n",
       "    <tr>\n",
       "      <th>4</th>\n",
       "      <td>7961</td>\n",
       "      <td>306</td>\n",
       "      <td>C</td>\n",
       "      <td>#ffff00</td>\n",
       "      <td>C2</td>\n",
       "      <td></td>\n",
       "      <td>3</td>\n",
       "      <td>0</td>\n",
       "      <td>0.000674</td>\n",
       "      <td>[ [ 36.110840000000003, -86.795150000000007 ],...</td>\n",
       "      <td>True</td>\n",
       "      <td>False</td>\n",
       "      <td>False</td>\n",
       "      <td>MULTIPOLYGON (((-86.76398 36.13284, -86.76594 ...</td>\n",
       "    </tr>\n",
       "  </tbody>\n",
       "</table>\n",
       "</div>"
      ],
      "text/plain": [
       "   area_id  city_id grade     fill label name  category_id  sheets      area  \\\n",
       "0     7963      306     A  #76a865     A                 1       0  0.003401   \n",
       "1     7962      306     B  #7cb5bd    B1                 2       0  0.001071   \n",
       "2     7956      306     B  #7cb5bd    B2                 2       0  0.000804   \n",
       "3     7964      306     C  #ffff00    C1                 3       0  0.000149   \n",
       "4     7961      306     C  #ffff00    C2                 3       0  0.000674   \n",
       "\n",
       "                                              bounds  residential  commercial  \\\n",
       "0  [ [ 36.08502, -86.877920000000003 ], [ 36.1385...         True       False   \n",
       "1  [ [ 36.112589999999997, -86.834350000000001 ],...         True       False   \n",
       "2  [ [ 36.181040000000003, -86.748919999999998 ],...         True       False   \n",
       "3  [ [ 36.139780000000002, -86.824340000000007 ],...         True       False   \n",
       "4  [ [ 36.110840000000003, -86.795150000000007 ],...         True       False   \n",
       "\n",
       "   industrial                                           geometry  \n",
       "0       False  MULTIPOLYGON (((-86.79515 36.11259, -86.79516 ...  \n",
       "1       False  MULTIPOLYGON (((-86.79193 36.13476, -86.79191 ...  \n",
       "2       False  MULTIPOLYGON (((-86.72531 36.18166, -86.71981 ...  \n",
       "3       False  MULTIPOLYGON (((-86.82434 36.14547, -86.82434 ...  \n",
       "4       False  MULTIPOLYGON (((-86.76398 36.13284, -86.76594 ...  "
      ]
     },
     "execution_count": 4,
     "metadata": {},
     "output_type": "execute_result"
    }
   ],
   "source": [
    "print(redlines.crs)\n",
    "redlines.head()"
   ]
  },
  {
   "cell_type": "code",
   "execution_count": 5,
   "metadata": {},
   "outputs": [
    {
     "data": {
      "text/plain": [
       "geopandas.geodataframe.GeoDataFrame"
      ]
     },
     "execution_count": 5,
     "metadata": {},
     "output_type": "execute_result"
    }
   ],
   "source": [
    "type(redlines)"
   ]
  },
  {
   "cell_type": "code",
   "execution_count": 7,
   "metadata": {},
   "outputs": [
    {
     "data": {
      "image/svg+xml": [
       "<svg xmlns=\"http://www.w3.org/2000/svg\" xmlns:xlink=\"http://www.w3.org/1999/xlink\" width=\"100.0\" height=\"100.0\" viewBox=\"-86.8826596 36.0802804 0.12796919999999545 0.06299920000000014\" preserveAspectRatio=\"xMinYMin meet\"><g transform=\"matrix(1,0,0,-1,0,72.22355999999999)\"><g><path fill-rule=\"evenodd\" fill=\"#66cc99\" stroke=\"#555555\" stroke-width=\"0.002559383999999909\" opacity=\"0.6\" d=\"M -86.79515,36.11259 L -86.79516,36.11259 L -86.79516,36.11259 L -86.80167,36.11326 L -86.80511,36.11353 L -86.8112,36.11393 L -86.81098,36.11601 L -86.81084,36.11683 L -86.81041,36.11793 L -86.81122,36.1181 L -86.81719,36.11879 L -86.82249,36.11939 L -86.82225,36.12075 L -86.82204,36.12236 L -86.82199,36.12346 L -86.82206,36.12413 L -86.82206,36.12472 L -86.8222,36.12507 L -86.82517,36.12557 L -86.82736,36.12593 L -86.82974,36.1264 L -86.83364,36.12668 L -86.83383,36.12789 L -86.83404,36.12947 L -86.83428,36.13068 L -86.83435,36.13162 L -86.83425,36.13273 L -86.83421,36.13407 L -86.83402,36.13505 L -86.83383,36.13595 L -86.83373,36.13736 L -86.83345,36.13854 L -86.83538,36.13799 L -86.83725,36.13739 L -86.83871,36.13693 L -86.84046,36.13646 L -86.84274,36.13583 L -86.84436,36.13538 L -86.84535,36.13507 L -86.8462,36.13475 L -86.84691,36.13421 L -86.84742,36.13368 L -86.84807,36.13229 L -86.84852,36.13073 L -86.8487,36.12903 L -86.84876,36.12836 L -86.84903,36.12733 L -86.84974,36.12605 L -86.85119,36.12421 L -86.85301,36.12214 L -86.85363,36.12139 L -86.85425,36.12078 L -86.85503,36.12015 L -86.85629,36.11905 L -86.85914,36.11679 L -86.85998,36.11606 L -86.86117,36.11508 L -86.86245,36.11377 L -86.86352,36.11239 L -86.86395,36.11156 L -86.86423,36.11099 L -86.86454,36.11037 L -86.86497,36.10953 L -86.86532,36.10865 L -86.86673,36.10584 L -86.86799,36.104 L -86.86913,36.10242 L -86.87027,36.10077 L -86.87124,36.0995 L -86.87276,36.09776 L -86.87436,36.09568 L -86.87666,36.0928 L -86.87792,36.09111 L -86.87531,36.09002 L -86.87412,36.08942 L -86.87307,36.08885 L -86.87222,36.08838 L -86.87141,36.08767 L -86.87032,36.08679 L -86.86929,36.08585 L -86.86879,36.0855 L -86.8678,36.08518 L -86.86639,36.08502 L -86.86492,36.08514 L -86.8638,36.08522 L -86.85781,36.08554 L -86.85396,36.08577 L -86.84859,36.08621 L -86.84389,36.08667 L -86.83977,36.08723 L -86.83837,36.08735 L -86.83435,36.08758 L -86.83305,36.08764 L -86.82794,36.08842 L -86.82596,36.08873 L -86.82328,36.08885 L -86.82188,36.08886 L -86.82014,36.08894 L -86.81807,36.08898 L -86.81551,36.0889 L -86.81218,36.08883 L -86.80892,36.08873 L -86.80643,36.08875 L -86.80296,36.08898 L -86.80148,36.08886 L -86.79702,36.08863 L -86.794,36.08867 L -86.79172,36.08861 L -86.79076,36.08863 L -86.78794,36.08817 L -86.7868,36.08817 L -86.78378,36.08796 L -86.78173,36.08792 L -86.7775,36.08742 L -86.77477,36.08735 L -86.77289,36.08723 L -86.77061,36.08717 L -86.76873,36.08717 L -86.76619,36.08748 L -86.76464,36.08765 L -86.76044,36.08806 L -86.75949,36.0966 L -86.75943,36.09821 L -86.76012,36.10181 L -86.76178,36.10733 L -86.76252,36.11108 L -86.76566,36.11113 L -86.76822,36.11107 L -86.76982,36.1109 L -86.77269,36.11086 L -86.77559,36.11084 L -86.77851,36.11096 L -86.78127,36.11123 L -86.7846,36.11169 L -86.78764,36.11207 L -86.7904,36.11234 L -86.79251,36.11253 L -86.79434,36.11249 L -86.79515,36.11259 z\" /></g></g></svg>"
      ],
      "text/plain": [
       "<MULTIPOLYGON (((-86.795 36.113, -86.795 36.113, -86.795 36.113, -86.802 36....>"
      ]
     },
     "execution_count": 7,
     "metadata": {},
     "output_type": "execute_result"
    }
   ],
   "source": [
    "redlines.loc[0,'geometry']"
   ]
  }
 ],
 "metadata": {
  "kernelspec": {
   "display_name": "geospatial",
   "language": "python",
   "name": "python3"
  },
  "language_info": {
   "codemirror_mode": {
    "name": "ipython",
    "version": 3
   },
   "file_extension": ".py",
   "mimetype": "text/x-python",
   "name": "python",
   "nbconvert_exporter": "python",
   "pygments_lexer": "ipython3",
   "version": "3.10.13"
  }
 },
 "nbformat": 4,
 "nbformat_minor": 2
}
