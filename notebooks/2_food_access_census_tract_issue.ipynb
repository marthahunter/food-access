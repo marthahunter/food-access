{
 "cells": [
  {
   "cell_type": "markdown",
   "metadata": {},
   "source": [
    "### Census Tract Issue - USDA Food Access Research Atlas (Tennessee data only)"
   ]
  },
  {
   "cell_type": "code",
   "execution_count": null,
   "metadata": {},
   "outputs": [],
   "source": [
    "import pandas as pd\n",
    "from matplotlib import pyplot as plt\n",
    "import seaborn as sns\n",
    "import numpy as np\n"
   ]
  },
  {
   "cell_type": "markdown",
   "metadata": {},
   "source": [
    "Importing both datasets"
   ]
  },
  {
   "cell_type": "code",
   "execution_count": null,
   "metadata": {},
   "outputs": [],
   "source": [
    "tn_food_access_df = pd.read_csv('../data/tn_food_access.csv')"
   ]
  },
  {
   "cell_type": "code",
   "execution_count": null,
   "metadata": {},
   "outputs": [],
   "source": [
    "tn_food_access_df = tn_food_access_df.drop('State', axis=1)"
   ]
  },
  {
   "cell_type": "code",
   "execution_count": null,
   "metadata": {},
   "outputs": [],
   "source": [
    "# I need to see if this is doing something constructive with the data, or anything at all, before running:\n",
    "# tn_food_access_df = tn_food_access_df.replace(r'^\\s*$', np.nan, regex=True)"
   ]
  },
  {
   "cell_type": "code",
   "execution_count": null,
   "metadata": {},
   "outputs": [],
   "source": [
    "# tn_food_access_df_fillna.to_csv('tn_food_access_nan.csv')"
   ]
  },
  {
   "cell_type": "markdown",
   "metadata": {},
   "source": [
    "Getting a general sense of the way census tracts operate in the two datasets ..."
   ]
  },
  {
   "cell_type": "code",
   "execution_count": null,
   "metadata": {},
   "outputs": [],
   "source": [
    "tn_food_access_df.head()"
   ]
  },
  {
   "cell_type": "code",
   "execution_count": null,
   "metadata": {},
   "outputs": [],
   "source": [
    "tn_food_access_df['CT_Clean'].info()"
   ]
  },
  {
   "cell_type": "markdown",
   "metadata": {},
   "source": [
    "993 unique entries for census tract, yet 1,489 total? Need to look into this as a top priority."
   ]
  },
  {
   "cell_type": "code",
   "execution_count": null,
   "metadata": {},
   "outputs": [],
   "source": [
    "tn_food_access_df['CT_Clean'].nunique()"
   ]
  },
  {
   "cell_type": "code",
   "execution_count": null,
   "metadata": {},
   "outputs": [],
   "source": [
    "# https://saturncloud.io/blog/how-to-check-for-duplicate-values-in-pandas-dataframe-column/#:~:text=To%20check%20for%20duplicate%20values%20in%20a%20Pandas%20DataFrame%20column,is%20a%20duplicate%20or%20not.\n",
    "# duplicate_values = df['Product'].duplicated()\n",
    "# print(duplicate_values)\n",
    "\n",
    "duplicate_CTs = tn_food_access_df['CT_Clean'].duplicated()\n",
    "duplicate_CTs_to_csv = pd.DataFrame(duplicate_CTs)\n",
    "# duplicate_CTs_to_csv.to_csv('duplicate_CTs.csv')\n"
   ]
  },
  {
   "cell_type": "markdown",
   "metadata": {},
   "source": [
    "ISSUE: converting the census tract numbers to match the census reporter data did not work and created duplicate census tract IDs in about 1/3 of the data. I will probably need to go back and change some things but need some help troubleshooting and figuring out where to start/what's needed."
   ]
  },
  {
   "cell_type": "code",
   "execution_count": null,
   "metadata": {},
   "outputs": [],
   "source": [
    "tn_food_access_df['CT_Old'].info()"
   ]
  },
  {
   "cell_type": "code",
   "execution_count": null,
   "metadata": {},
   "outputs": [],
   "source": [
    "tn_food_access_df['CT_Old'].nunique()"
   ]
  },
  {
   "cell_type": "markdown",
   "metadata": {},
   "source": [
    "#### Origin of issue discovery:"
   ]
  },
  {
   "cell_type": "markdown",
   "metadata": {},
   "source": [
    "Pulling minimum population, I'm seeing two lines that appear to have the same census tract number. "
   ]
  },
  {
   "cell_type": "code",
   "execution_count": null,
   "metadata": {},
   "outputs": [],
   "source": [
    "tn_food_access_df[tn_food_access_df['Pop2010'].iloc[:]==tn_food_access_df['Pop2010'].iloc[:].min()]"
   ]
  },
  {
   "cell_type": "markdown",
   "metadata": {},
   "source": [
    "After speaking with instructors:\n",
    "* pull digits only from census_df\n",
    "* pull out county, create column for that\n",
    "* make a list out of all column headers\n",
    "* expand/true on comma\n",
    "* take CT_Old column from tn_food_access_df and compare\n",
    "* be sure to add \"from income\" to census_df and \"from food\" to tn_food_access_df\n",
    "* union and catch for duplicates\n",
    "* see the stuff that only exists in one form or another\n",
    "* maybe also research census tract numbers (do they come in other forms? why wouldn't they be the same? is one more granular?)"
   ]
  },
  {
   "cell_type": "code",
   "execution_count": null,
   "metadata": {},
   "outputs": [],
   "source": [
    "census_df = pd.read_excel('../data/census_tn_income_b19001.xlsx')"
   ]
  },
  {
   "cell_type": "code",
   "execution_count": null,
   "metadata": {},
   "outputs": [],
   "source": [
    "census_df.head()"
   ]
  },
  {
   "cell_type": "code",
   "execution_count": null,
   "metadata": {},
   "outputs": [],
   "source": [
    "census_df_ct_troubleshoot = census_df.rename(columns={'Unnamed: 0':'income_bracket'})"
   ]
  },
  {
   "cell_type": "code",
   "execution_count": null,
   "metadata": {},
   "outputs": [],
   "source": [
    "census_df_ct_troubleshoot = census_df_ct_troubleshoot[census_df_ct_troubleshoot.columns.drop(list(census_df_ct_troubleshoot.filter(regex='Unnamed')))]\n"
   ]
  },
  {
   "cell_type": "code",
   "execution_count": null,
   "metadata": {},
   "outputs": [],
   "source": [
    "census_df_ct_troubleshoot.head()"
   ]
  },
  {
   "cell_type": "code",
   "execution_count": null,
   "metadata": {},
   "outputs": [],
   "source": [
    "# this removes the first row of data\n",
    "census_df_ct_troubleshoot = census_df_ct_troubleshoot.iloc[1:,:]"
   ]
  },
  {
   "cell_type": "code",
   "execution_count": null,
   "metadata": {},
   "outputs": [],
   "source": [
    "census_df_ct_troubleshoot.head()"
   ]
  },
  {
   "cell_type": "code",
   "execution_count": null,
   "metadata": {},
   "outputs": [],
   "source": [
    "census_df_ct_troubleshoot = census_df_ct_troubleshoot.transpose().reset_index()"
   ]
  },
  {
   "cell_type": "code",
   "execution_count": null,
   "metadata": {},
   "outputs": [],
   "source": [
    "census_df_ct_troubleshoot.columns = census_df_ct_troubleshoot.iloc[0]"
   ]
  },
  {
   "cell_type": "code",
   "execution_count": null,
   "metadata": {},
   "outputs": [],
   "source": [
    "census_df_ct_troubleshoot = census_df_ct_troubleshoot.iloc[1:,:]"
   ]
  },
  {
   "cell_type": "code",
   "execution_count": null,
   "metadata": {},
   "outputs": [],
   "source": [
    "census_df_ct_troubleshoot['income_bracket'].replace('Census Tract ','', regex=True, inplace = True)"
   ]
  },
  {
   "cell_type": "code",
   "execution_count": null,
   "metadata": {},
   "outputs": [],
   "source": [
    "# census_df_ct_troubleshoot_test = census_df_ct_troubleshoot['income_bracket'].replace('Census Tract ','', inplace=True)"
   ]
  },
  {
   "cell_type": "markdown",
   "metadata": {},
   "source": [
    "I've successfully taken \"Census Tract\" out of the income_bracket column. Now I need to create a new column and use the .split() function to separate the income bracket column into two separate columns: one for the census tract number, and one for the county name. Then I probably want another column (instead of altering the original ct number) which removes the decimal points from the census tracts. "
   ]
  },
  {
   "cell_type": "code",
   "execution_count": null,
   "metadata": {},
   "outputs": [],
   "source": [
    "census_df_ct_troubleshoot.head()"
   ]
  },
  {
   "cell_type": "code",
   "execution_count": null,
   "metadata": {},
   "outputs": [],
   "source": [
    "census_df_ct_troubleshoot.columns.values.tolist()"
   ]
  },
  {
   "cell_type": "code",
   "execution_count": null,
   "metadata": {},
   "outputs": [],
   "source": [
    "# df[['First Name', 'Last Name']] = df['Name'].str.split(' ', expand=True)\n",
    "# https://saturncloud.io/blog/how-to-split-one-column-into-multiple-columns-in-pandas-dataframe/\n",
    "\n",
    "census_df_ct_troubleshoot[['income_bracket','county_cr']] = census_df_ct_troubleshoot['income_bracket'].str.split(',',n=1,expand=True)\n",
    "census_df_ct_troubleshoot.head()\n",
    "\n"
   ]
  },
  {
   "cell_type": "code",
   "execution_count": null,
   "metadata": {},
   "outputs": [],
   "source": [
    "census_df_ct_troubleshoot['county_cr'].replace(', TN','', regex=True, inplace = True)"
   ]
  },
  {
   "cell_type": "code",
   "execution_count": null,
   "metadata": {},
   "outputs": [],
   "source": [
    "census_df_ct_troubleshoot.head()"
   ]
  },
  {
   "cell_type": "code",
   "execution_count": null,
   "metadata": {},
   "outputs": [],
   "source": [
    "census_df_ct_troubleshoot = census_df_ct_troubleshoot.rename(columns={'income_bracket':'census_tract','Total:':'total'})"
   ]
  },
  {
   "cell_type": "code",
   "execution_count": null,
   "metadata": {},
   "outputs": [],
   "source": [
    "census_df_ct_troubleshoot.head()"
   ]
  },
  {
   "cell_type": "code",
   "execution_count": null,
   "metadata": {},
   "outputs": [],
   "source": [
    "census_df_ct_troubleshoot['ct_digits_cr'] = census_df_ct_troubleshoot['census_tract'].str.replace('.','')"
   ]
  },
  {
   "cell_type": "code",
   "execution_count": null,
   "metadata": {},
   "outputs": [],
   "source": [
    "census_df_ct_troubleshoot.head(200)"
   ]
  },
  {
   "cell_type": "code",
   "execution_count": null,
   "metadata": {},
   "outputs": [],
   "source": [
    "census_df_ct_troubleshoot['from'] = 'census'"
   ]
  },
  {
   "cell_type": "code",
   "execution_count": null,
   "metadata": {},
   "outputs": [],
   "source": [
    "census_df_ct_troubleshoot.head()"
   ]
  },
  {
   "cell_type": "code",
   "execution_count": null,
   "metadata": {},
   "outputs": [],
   "source": [
    "tn_food_access_df.head()"
   ]
  },
  {
   "cell_type": "code",
   "execution_count": null,
   "metadata": {},
   "outputs": [],
   "source": [
    "# census_df_ct_troubleshoot = census_df_ct_troubleshoot.rename(columns={'income_bracket':'census_tract','Total:':'total'})\n",
    "\n",
    "tn_food_access_df = tn_food_access_df.rename(columns={'CT_Old':'ct_long_usda','CT_Clean':'ct_error_usda','County':'county_usda'})"
   ]
  },
  {
   "cell_type": "code",
   "execution_count": null,
   "metadata": {},
   "outputs": [],
   "source": [
    "tn_food_access_df.head()"
   ]
  },
  {
   "cell_type": "code",
   "execution_count": null,
   "metadata": {},
   "outputs": [],
   "source": [
    "# census_df_ct_troubleshoot['from'] = 'census'\n",
    "tn_food_access_df['from'] = 'usda'"
   ]
  },
  {
   "cell_type": "code",
   "execution_count": null,
   "metadata": {},
   "outputs": [],
   "source": [
    "tn_food_access_df['county_usda'].replace(' County','', regex=True, inplace = True)"
   ]
  },
  {
   "cell_type": "code",
   "execution_count": null,
   "metadata": {},
   "outputs": [],
   "source": [
    "usda_data_to_union = tn_food_access_df[['ct_long_usda','county_usda','from']].copy()"
   ]
  },
  {
   "cell_type": "code",
   "execution_count": null,
   "metadata": {},
   "outputs": [],
   "source": [
    "tn_food_access_df.head()"
   ]
  },
  {
   "cell_type": "code",
   "execution_count": null,
   "metadata": {},
   "outputs": [],
   "source": [
    "usda_data_to_union.head()"
   ]
  },
  {
   "cell_type": "code",
   "execution_count": null,
   "metadata": {},
   "outputs": [],
   "source": [
    "cr_data_to_union = census_df_ct_troubleshoot[['ct_digits_cr','county_cr','from']].copy()"
   ]
  },
  {
   "cell_type": "code",
   "execution_count": null,
   "metadata": {},
   "outputs": [],
   "source": [
    "# this removes the first row of data\n",
    "cr_data_to_union = cr_data_to_union.iloc[1:,:]\n",
    "cr_data_to_union.head()"
   ]
  },
  {
   "cell_type": "code",
   "execution_count": null,
   "metadata": {},
   "outputs": [],
   "source": [
    "# https://saturncloud.io/blog/how-to-perform-a-union-of-two-pandas-dataframes/\n",
    "joined_usda_cr_tracts = pd.merge(usda_data_to_union,cr_data_to_union, how='outer',on=['ct_long_usda','ct_digits_cr'])"
   ]
  },
  {
   "cell_type": "code",
   "execution_count": null,
   "metadata": {},
   "outputs": [],
   "source": [
    "joined_usda_cr_tracts.head(50)"
   ]
  }
 ],
 "metadata": {
  "kernelspec": {
   "display_name": "base",
   "language": "python",
   "name": "python3"
  },
  "language_info": {
   "codemirror_mode": {
    "name": "ipython",
    "version": 3
   },
   "file_extension": ".py",
   "mimetype": "text/x-python",
   "name": "python",
   "nbconvert_exporter": "python",
   "pygments_lexer": "ipython3",
   "version": "3.11.5"
  }
 },
 "nbformat": 4,
 "nbformat_minor": 2
}
