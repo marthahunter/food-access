{
 "cells": [
  {
   "cell_type": "markdown",
   "metadata": {},
   "source": [
    "6. Do counties with the highest levels of income disparity tend to have higher percentages of food insecurity? (Food Access Research Atlas and Census Household Income)\n",
    "\n",
    "7. Of the counties with the highest levels of food insecurity, what percentage of these tracts are in the lowest income brackets? (Food Access Research Atlas and Census Household Income)"
   ]
  },
  {
   "cell_type": "code",
   "execution_count": 1,
   "metadata": {},
   "outputs": [],
   "source": [
    "import pandas as pd\n",
    "from matplotlib import pyplot as plt\n",
    "import seaborn as sns\n",
    "import numpy as np"
   ]
  }
 ],
 "metadata": {
  "kernelspec": {
   "display_name": "base",
   "language": "python",
   "name": "python3"
  },
  "language_info": {
   "name": "python",
   "version": "3.11.5"
  }
 },
 "nbformat": 4,
 "nbformat_minor": 2
}
